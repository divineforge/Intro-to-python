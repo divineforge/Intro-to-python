{
 "cells": [
  {
   "cell_type": "markdown",
   "metadata": {},
   "source": [
    "## 3. Strings\n",
    "Strings in python comprised of a set of characters.\n",
    "Any text that we type inside of quotation marks - either single quotes (`'`) or double quotes (`\"`) - is considered by Python to be string. For example, `\"cats are cute\"` is a string:"
   ]
  },
  {
   "cell_type": "code",
   "execution_count": 1,
   "metadata": {},
   "outputs": [
    {
     "data": {
      "text/plain": [
       "'cats are cute'"
      ]
     },
     "execution_count": 1,
     "metadata": {},
     "output_type": "execute_result"
    }
   ],
   "source": [
    "# This is a string\n",
    "'cats are cute'"
   ]
  },
  {
   "cell_type": "code",
   "execution_count": 2,
   "metadata": {},
   "outputs": [
    {
     "data": {
      "text/plain": [
       "'jlkjl'"
      ]
     },
     "execution_count": 2,
     "metadata": {},
     "output_type": "execute_result"
    }
   ],
   "source": [
    "\"jlkjl\""
   ]
  },
  {
   "cell_type": "markdown",
   "metadata": {},
   "source": [
    "### Using print function\n",
    "You may print the string in a variable using print function **print(....)**"
   ]
  },
  {
   "cell_type": "code",
   "execution_count": 3,
   "metadata": {},
   "outputs": [
    {
     "name": "stdout",
     "output_type": "stream",
     "text": [
      "Ahmand\n",
      "Bakri\n"
     ]
    }
   ],
   "source": [
    "var1=\"Ahmand\"\n",
    "var2=\"Bakri\"\n",
    "print(var1)\n",
    "print(var2)"
   ]
  },
  {
   "cell_type": "code",
   "execution_count": 4,
   "metadata": {},
   "outputs": [
    {
     "data": {
      "text/plain": [
       "'String ini akan dicetak'"
      ]
     },
     "execution_count": 4,
     "metadata": {},
     "output_type": "execute_result"
    }
   ],
   "source": [
    "# without print function\n",
    "\"String ini tidak akan dicetak\"\n",
    "\"String ini akan dicetak\""
   ]
  },
  {
   "cell_type": "code",
   "execution_count": 5,
   "metadata": {},
   "outputs": [
    {
     "name": "stdout",
     "output_type": "stream",
     "text": [
      "String_one\n",
      "String_two\n"
     ]
    }
   ],
   "source": [
    "# Using print function\n",
    "print(\"String_one\")\n",
    "print(\"String_two\")"
   ]
  },
  {
   "cell_type": "markdown",
   "metadata": {},
   "source": [
    "The backslash (\\) has a very special meaning when used inside strings -its called escape character.\n",
    "\\n is special symbol named a newline character."
   ]
  },
  {
   "cell_type": "code",
   "execution_count": 6,
   "metadata": {},
   "outputs": [
    {
     "name": "stdout",
     "output_type": "stream",
     "text": [
      "Hello \n",
      "How are you?\n"
     ]
    }
   ],
   "source": [
    "print(\"Hello \\nHow are you?\")"
   ]
  },
  {
   "cell_type": "markdown",
   "metadata": {},
   "source": [
    "We can pass any number of arguments to the `print` function:\n",
    "\n",
    "Or we can say using **multiple arguments** in print() function. The arguments are separated by commas."
   ]
  },
  {
   "cell_type": "code",
   "execution_count": 7,
   "metadata": {},
   "outputs": [
    {
     "name": "stdout",
     "output_type": "stream",
     "text": [
      "first string second string last string\n"
     ]
    }
   ],
   "source": [
    "print(\"first string\", \"second string\",\"last string\")"
   ]
  },
  {
   "cell_type": "code",
   "execution_count": 8,
   "metadata": {},
   "outputs": [
    {
     "name": "stdout",
     "output_type": "stream",
     "text": [
      "Word one two three.\n"
     ]
    }
   ],
   "source": [
    "print(\"Word one\" , \"two\" , \"three.\")"
   ]
  },
  {
   "cell_type": "markdown",
   "metadata": {},
   "source": [
    "print() function has two keyword arguments that you can use. The first is the **end** argument."
   ]
  },
  {
   "cell_type": "code",
   "execution_count": 9,
   "metadata": {},
   "outputs": [
    {
     "name": "stdout",
     "output_type": "stream",
     "text": [
      "These will be combined in a single line.\n"
     ]
    }
   ],
   "source": [
    "print(\"These\", \"will be combined\", end=\" \")\n",
    "print(\"in a single line.\")"
   ]
  },
  {
   "cell_type": "code",
   "execution_count": null,
   "metadata": {},
   "outputs": [],
   "source": [
    "print(\"These\", \"will be combined____\",end=\"\")\n",
    "print(\"in a single line.\",end=\" \")\n",
    "print(\"in a single line.\")"
   ]
  },
  {
   "cell_type": "markdown",
   "metadata": {},
   "source": [
    "The second argument is the **seperator** named **sep**."
   ]
  },
  {
   "cell_type": "code",
   "execution_count": null,
   "metadata": {},
   "outputs": [],
   "source": [
    "print(\"One\", \"two\", \"three\", \"four\",sep=\"-\")"
   ]
  },
  {
   "cell_type": "markdown",
   "metadata": {},
   "source": [
    "Try changing the end argument to **\\n**"
   ]
  },
  {
   "cell_type": "code",
   "execution_count": null,
   "metadata": {},
   "outputs": [],
   "source": [
    "print(\"My\", \"name\", \"is\", sep=\"_\", end=\":\")\n",
    "print(\"Jason\",\"Tan\",sep=\"-\")"
   ]
  },
  {
   "cell_type": "markdown",
   "metadata": {},
   "source": [
    "### Store Strings in variables\n",
    "Variables are container into which we store values. Variables can hold any type of value - we have previously only used to store numbers. Variables can also hold strings."
   ]
  },
  {
   "cell_type": "code",
   "execution_count": null,
   "metadata": {},
   "outputs": [],
   "source": [
    "my_string = \"Ahmad\""
   ]
  },
  {
   "cell_type": "code",
   "execution_count": null,
   "metadata": {},
   "outputs": [],
   "source": [
    "# To view the what's in the variable\n",
    "my_string"
   ]
  },
  {
   "cell_type": "code",
   "execution_count": null,
   "metadata": {},
   "outputs": [],
   "source": [
    "# pass variables to be printed\n",
    "height = 170\n",
    "print(\"Your height is\", height)"
   ]
  },
  {
   "cell_type": "markdown",
   "metadata": {},
   "source": [
    "If you accidentally forget one of the `\"` characters ( has only one `\"`), you will get an error:"
   ]
  },
  {
   "cell_type": "code",
   "execution_count": null,
   "metadata": {},
   "outputs": [],
   "source": [
    "incomplete_string = \"missing a quote at the end"
   ]
  },
  {
   "cell_type": "markdown",
   "metadata": {},
   "source": [
    "You can combine two strings with the `+` operator:"
   ]
  },
  {
   "cell_type": "code",
   "execution_count": null,
   "metadata": {},
   "outputs": [],
   "source": [
    "\"Ahmad\" + \"Bakri\""
   ]
  },
  {
   "cell_type": "code",
   "execution_count": null,
   "metadata": {},
   "outputs": [],
   "source": [
    "# You can store the combine string in a variable:\n",
    "combined_string = \"Ahmad\" + \" Bakri\"\n",
    "combined_string"
   ]
  },
  {
   "cell_type": "code",
   "execution_count": null,
   "metadata": {},
   "outputs": [],
   "source": [
    "# We can make it longer\n",
    "even_longer_string = combined_string + \"dan\"\n",
    "even_longer_string"
   ]
  },
  {
   "cell_type": "code",
   "execution_count": null,
   "metadata": {},
   "outputs": [],
   "source": [
    "# We can combine as many strings as possible\n",
    "string_one = \"red\"\n",
    "string_two = \"green\"\n",
    "string_three = \"blue\"\n",
    "result = string_one + string_two + string_three\n",
    "result"
   ]
  },
  {
   "cell_type": "markdown",
   "metadata": {},
   "source": [
    "You man clean it up by adding in some spaces (`\" \"`) in between the strings:"
   ]
  },
  {
   "cell_type": "code",
   "execution_count": null,
   "metadata": {},
   "outputs": [],
   "source": [
    "combined_string = \"Ahmad\" + \" \" + \"Bakri\"\n",
    "combined_string"
   ]
  },
  {
   "cell_type": "markdown",
   "metadata": {},
   "source": [
    "<font color=\"blue\">Exercise</font>: Define a variable named `var1` and assign it the value `\"one\"`, then define a variable named `var2` and assign it the value `\"two\"`. Define the last variable named `var_all` that is the combination of `var1` and `var2`, with a space in between using the `+` operator:"
   ]
  },
  {
   "cell_type": "code",
   "execution_count": null,
   "metadata": {},
   "outputs": [],
   "source": [
    "# YOUR CODE HERE\n"
   ]
  },
  {
   "cell_type": "markdown",
   "metadata": {},
   "source": [
    "### Functions with string\n",
    "Functions that we define can `return` string values, similar to return numbers in the earlier examples:"
   ]
  },
  {
   "cell_type": "code",
   "execution_count": null,
   "metadata": {},
   "outputs": [],
   "source": [
    "def greeting():\n",
    "    return \"hello, world\""
   ]
  },
  {
   "cell_type": "code",
   "execution_count": null,
   "metadata": {},
   "outputs": [],
   "source": [
    "greeting()"
   ]
  },
  {
   "cell_type": "code",
   "execution_count": null,
   "metadata": {},
   "outputs": [],
   "source": [
    "# passing string argument into function\n",
    "def selamat_pagi(name):\n",
    "    return \"Selamat pagi\"+ \" \" + name\n",
    "\n",
    "selamat_pagi(\"Ahmand\")"
   ]
  },
  {
   "cell_type": "code",
   "execution_count": null,
   "metadata": {},
   "outputs": [],
   "source": [
    "# define functions that accept multiple string arguments\n",
    "def space_in_between(the_first_string, the_second_string):\n",
    "    return the_first_string + \" \" + the_second_string\n",
    "space_in_between(\"Python\", \"Expert\")"
   ]
  },
  {
   "cell_type": "code",
   "execution_count": null,
   "metadata": {},
   "outputs": [],
   "source": []
  },
  {
   "cell_type": "markdown",
   "metadata": {},
   "source": [
    "<font color='blue'>Exercise</font>: Define a function called `combine_name` that accepts three arguments: `salutation`, `surname`, and `given_name`. The function should combine these three arguments and return the full name with a space in between. \n",
    "\n",
    "combine_name(\"Encik.\", \"Lim\", \"Ah Chong\") should return  `Encik. Ah Chong Lim`\n",
    "\n",
    "combine_name(\"Encik.\", \"Bakri\", \"Mohd Fikri\") should return  `Encik. Mohd Fikri Bakri`"
   ]
  },
  {
   "cell_type": "code",
   "execution_count": null,
   "metadata": {},
   "outputs": [],
   "source": [
    "# YOUR CODE HERE\n",
    "\n"
   ]
  },
  {
   "cell_type": "code",
   "execution_count": null,
   "metadata": {},
   "outputs": [],
   "source": [
    "combine_name(\"Encik.\", \"Bakri\", \"Mohd Fikri\")"
   ]
  },
  {
   "cell_type": "markdown",
   "metadata": {},
   "source": [
    "### Built-in String Functions\n",
    "Similar to `max` and `round` function in earlier lesson, Python also contains many other functions that can manipulate strings.  The built-in `len` function will return the number of letters in a string:"
   ]
  },
  {
   "cell_type": "code",
   "execution_count": null,
   "metadata": {},
   "outputs": [],
   "source": [
    "len(\"Ahmad\")"
   ]
  },
  {
   "cell_type": "code",
   "execution_count": null,
   "metadata": {},
   "outputs": [],
   "source": [
    "# Use len function on variable containing string\n",
    "greeting_string = \"hello world\"\n",
    "len(greeting_string)"
   ]
  },
  {
   "cell_type": "markdown",
   "metadata": {},
   "source": [
    "<font color=\"blue\">Exercise</font>: Define a function called `length_of_combined_strings` that accepts two arguments, `string1` and `string2`, and returns their combined length. \n",
    "\n",
    "For example, when given the arguments `\"hello\"` and `\"world\"`, your function should return `10`"
   ]
  },
  {
   "cell_type": "code",
   "execution_count": null,
   "metadata": {},
   "outputs": [],
   "source": [
    "# YOUR CODE HERE\n",
    "\n"
   ]
  },
  {
   "cell_type": "code",
   "execution_count": null,
   "metadata": {},
   "outputs": [],
   "source": [
    "length_of_combined_strings('hello','world')"
   ]
  },
  {
   "cell_type": "markdown",
   "metadata": {},
   "source": [
    "### Using print in functions"
   ]
  },
  {
   "cell_type": "code",
   "execution_count": null,
   "metadata": {},
   "outputs": [],
   "source": [
    "def print_greeting(customer_name):\n",
    "    print(\"Hello\", customer_name, \"- Welcome\")\n",
    "print_greeting(\"Jonathan\")"
   ]
  },
  {
   "cell_type": "markdown",
   "metadata": {},
   "source": [
    "<font color=\"blue\">Exercise</font>: Define a function called `print_min_of_three` that accepts 3 arguments `num1`,`num2` and `num3`. The function should print `\"the min value is:, <followed by min value>\"`. The function should utilize the built in min function.\n",
    "\n",
    "print_min_of_three(2,3,4) will print `\"the min value is: 2\"`\n"
   ]
  },
  {
   "cell_type": "code",
   "execution_count": 10,
   "metadata": {},
   "outputs": [],
   "source": [
    "# YOUR CODE HERE\n",
    "def print_min_of_three(num1, num2, num3):\n",
    "    print(\"the min value is\", min(num1, num2, num3))"
   ]
  },
  {
   "cell_type": "code",
   "execution_count": 11,
   "metadata": {},
   "outputs": [
    {
     "name": "stdout",
     "output_type": "stream",
     "text": [
      "the min value is 2\n"
     ]
    }
   ],
   "source": [
    "print_min_of_three(2,3,4)"
   ]
  },
  {
   "cell_type": "markdown",
   "metadata": {},
   "source": [
    "Note the difference between the function with `print` and the function with `return` string values."
   ]
  },
  {
   "cell_type": "code",
   "execution_count": 13,
   "metadata": {},
   "outputs": [],
   "source": [
    "def return_function():\n",
    "    return \"a string\"\n",
    "def print_function():\n",
    "    print(\"a string\")"
   ]
  },
  {
   "cell_type": "code",
   "execution_count": 14,
   "metadata": {},
   "outputs": [],
   "source": [
    "x=return_function()"
   ]
  },
  {
   "cell_type": "code",
   "execution_count": 15,
   "metadata": {},
   "outputs": [
    {
     "data": {
      "text/plain": [
       "'a string'"
      ]
     },
     "execution_count": 15,
     "metadata": {},
     "output_type": "execute_result"
    }
   ],
   "source": [
    "x"
   ]
  },
  {
   "cell_type": "code",
   "execution_count": 16,
   "metadata": {},
   "outputs": [
    {
     "name": "stdout",
     "output_type": "stream",
     "text": [
      "a string\n"
     ]
    }
   ],
   "source": [
    "y=print_function()"
   ]
  },
  {
   "cell_type": "code",
   "execution_count": 17,
   "metadata": {},
   "outputs": [
    {
     "name": "stdout",
     "output_type": "stream",
     "text": [
      "None\n"
     ]
    }
   ],
   "source": [
    "print(y)"
   ]
  },
  {
   "cell_type": "code",
   "execution_count": 18,
   "metadata": {},
   "outputs": [
    {
     "name": "stdout",
     "output_type": "stream",
     "text": [
      "a string\n"
     ]
    }
   ],
   "source": [
    "success_return=return_function()\n",
    "print(success_return)"
   ]
  },
  {
   "cell_type": "code",
   "execution_count": 19,
   "metadata": {},
   "outputs": [
    {
     "name": "stdout",
     "output_type": "stream",
     "text": [
      "a string\n",
      "None\n"
     ]
    }
   ],
   "source": [
    "# the function with print will not return anything\n",
    "no_return = print_function()\n",
    "print(no_return)"
   ]
  },
  {
   "cell_type": "code",
   "execution_count": 21,
   "metadata": {},
   "outputs": [
    {
     "name": "stdout",
     "output_type": "stream",
     "text": [
      "a string\n"
     ]
    }
   ],
   "source": [
    "print_function()"
   ]
  },
  {
   "cell_type": "markdown",
   "metadata": {},
   "source": [
    "### Debugging with `print`\n",
    "There is an error in the following function that suppose to calculate profit after taxes:"
   ]
  },
  {
   "cell_type": "code",
   "execution_count": null,
   "metadata": {},
   "outputs": [],
   "source": [
    "def cal_profit_after_taxes(revenue, expenses):\n",
    "    tax_rate = 20\n",
    "    profit = revenue - expenses\n",
    "    taxes = tax_rate * profit\n",
    "    profit_after_taxes = profit - taxes\n",
    "    return profit_after_taxes"
   ]
  },
  {
   "cell_type": "code",
   "execution_count": null,
   "metadata": {},
   "outputs": [],
   "source": [
    "# The output is wrong (Not suppose to be negative):\n",
    "\n",
    "profit_after_tax = cal_profit_after_taxes(100, 70)\n",
    "print(profit_after_tax)\n"
   ]
  },
  {
   "cell_type": "markdown",
   "metadata": {},
   "source": [
    "<font color=\"blue\">Exercise</font>: The return value above was clearly wrong. Please use multiple **print** in the function above to debug the error."
   ]
  },
  {
   "cell_type": "code",
   "execution_count": null,
   "metadata": {},
   "outputs": [],
   "source": [
    "# YOUR CODE HERE\n"
   ]
  },
  {
   "cell_type": "markdown",
   "metadata": {},
   "source": [
    " ### Strings & Numbers\n",
    " "
   ]
  },
  {
   "cell_type": "code",
   "execution_count": null,
   "metadata": {},
   "outputs": [],
   "source": [
    "# len function will return a integer (number) which allow addition to another integer\n",
    "score = 5\n",
    "msg=\"This is the score:\"\n",
    "total_len = len(msg) + score\n",
    "total_len"
   ]
  },
  {
   "cell_type": "code",
   "execution_count": null,
   "metadata": {},
   "outputs": [],
   "source": [
    "# You can check each type of a variable using type function\n",
    "type(score)\n"
   ]
  },
  {
   "cell_type": "code",
   "execution_count": null,
   "metadata": {},
   "outputs": [],
   "source": [
    "type(msg)\n"
   ]
  },
  {
   "cell_type": "code",
   "execution_count": null,
   "metadata": {},
   "outputs": [],
   "source": [
    "# ERROR: Cant concatenate int to str\n",
    "msg + score"
   ]
  },
  {
   "cell_type": "markdown",
   "metadata": {},
   "source": [
    "`str` function can convert a integer(number) to the equivalent string: "
   ]
  },
  {
   "cell_type": "code",
   "execution_count": null,
   "metadata": {},
   "outputs": [],
   "source": [
    "str(score)"
   ]
  },
  {
   "cell_type": "code",
   "execution_count": null,
   "metadata": {},
   "outputs": [],
   "source": [
    "message = msg + str(score)\n",
    "print (message)"
   ]
  },
  {
   "cell_type": "markdown",
   "metadata": {},
   "source": [
    "You are NOT allowed to use string values in arithmetic expressions with numbers."
   ]
  },
  {
   "cell_type": "code",
   "execution_count": null,
   "metadata": {},
   "outputs": [],
   "source": [
    "# Error using + operator for int & str\n",
    "numerical_string_value = \"5\"\n",
    "3 + numerical_string_value"
   ]
  },
  {
   "cell_type": "code",
   "execution_count": null,
   "metadata": {},
   "outputs": [],
   "source": [
    "# This is how it suppose to be\n",
    "3 + int(numerical_string_value)"
   ]
  },
  {
   "cell_type": "markdown",
   "metadata": {},
   "source": [
    "<font color=\"blue\">Exercise</font>: Define a function called `print_balance` that accepts two arguments: `customer_name` and `account_balance`. \n",
    "Your function should return the following string:\n",
    "`\"Hello Ali - your account balance is: RM500\"`\n",
    "if it is called with the arguments `\"Ali\"` and `50`. \n",
    "`print_balance(\"Fatimah\", 300)` should return `\"Hello Fatimah - your account balance is: RM300\"`"
   ]
  },
  {
   "cell_type": "code",
   "execution_count": null,
   "metadata": {},
   "outputs": [],
   "source": [
    "# YOUR CODE HERE\n"
   ]
  },
  {
   "cell_type": "code",
   "execution_count": null,
   "metadata": {},
   "outputs": [],
   "source": [
    "print_balance(\"Fatimah\", 300)"
   ]
  },
  {
   "cell_type": "markdown",
   "metadata": {},
   "source": [
    "### Quotation Marks\n",
    "(`\"` or `'`) are what define our strings. In order to add a quotation mark in the string you must use  a backslash (`\\`) character (escape character)."
   ]
  },
  {
   "cell_type": "code",
   "execution_count": null,
   "metadata": {},
   "outputs": [],
   "source": [
    "quotes = \"Hello Mr. \\\"Ahmad\\\"\"\n",
    "quotes"
   ]
  },
  {
   "cell_type": "markdown",
   "metadata": {},
   "source": [
    "### f-string\n",
    "formatted string literals, f-strings are string literals that have an f at the beginning and curly braces containing expressions that will be replaced with their values.\n",
    "\n",
    "A normal string is transformed into an f-string by placing the letter f before the opening quote of the string. Use  `{}` to insert variables (number or string) in the f-string"
   ]
  },
  {
   "cell_type": "code",
   "execution_count": null,
   "metadata": {},
   "outputs": [],
   "source": [
    "sales = 100 \n",
    "time_period = \"Q4 2018\"\n",
    "\n",
    "# Combining string using + operator\n",
    "sales_message = \"The revenue for \"+ time_period + \" were RM\"+str(sales)\n",
    "sales_message"
   ]
  },
  {
   "cell_type": "code",
   "execution_count": null,
   "metadata": {},
   "outputs": [],
   "source": [
    "# Same result using f-string\n",
    "sales_message = f\"The revenue for {time_period} were RM{sales}\"\n",
    "sales_message"
   ]
  },
  {
   "cell_type": "code",
   "execution_count": null,
   "metadata": {},
   "outputs": [],
   "source": [
    "#This will show the same output as normal string\n",
    "regular_string = f\"nothing special\"\n",
    "regular_string"
   ]
  },
  {
   "cell_type": "markdown",
   "metadata": {},
   "source": [
    "<font color=\"blue\">Exercise</font>: Define a function called **get_birthday_message** that accepts two arguments: **name** and **age_yrs**, and returns a string birthday greeting message with the following form. \n",
    "\n",
    "For Example:\n",
    "\n",
    "get_birthday_message(\"Fatimah\", 21) \n",
    "\n",
    "then your function should return the string **\"Happy birthday Fatimah, you are 21 years old.\"**"
   ]
  },
  {
   "cell_type": "code",
   "execution_count": null,
   "metadata": {},
   "outputs": [],
   "source": [
    "# YOUR CODE HERE\n"
   ]
  },
  {
   "cell_type": "code",
   "execution_count": null,
   "metadata": {},
   "outputs": [],
   "source": [
    "get_birthday_message(\"Fatimah\",21)"
   ]
  },
  {
   "cell_type": "code",
   "execution_count": null,
   "metadata": {},
   "outputs": [],
   "source": [
    "str(10)"
   ]
  },
  {
   "cell_type": "markdown",
   "metadata": {},
   "source": [
    "## Input function\n",
    "input() prompts the user to input some data "
   ]
  },
  {
   "cell_type": "code",
   "execution_count": null,
   "metadata": {},
   "outputs": [],
   "source": [
    "age = input(\"Tell me your age...\")\n",
    "print(\"You are\",age,\" years old\")"
   ]
  },
  {
   "cell_type": "code",
   "execution_count": null,
   "metadata": {},
   "outputs": [],
   "source": [
    "# The input function will take the input in string\n",
    "type(age)"
   ]
  },
  {
   "cell_type": "code",
   "execution_count": null,
   "metadata": {},
   "outputs": [],
   "source": [
    "# ERROR: Can't concatenate int to str\n",
    "age+2"
   ]
  },
  {
   "cell_type": "markdown",
   "metadata": {},
   "source": [
    "### Type casting\n",
    "you may use the int() or float() functions to specify the type of data."
   ]
  },
  {
   "cell_type": "code",
   "execution_count": null,
   "metadata": {},
   "outputs": [],
   "source": [
    "age = int(input(\"Tell me your age...\"))\n",
    "type(age)"
   ]
  },
  {
   "cell_type": "markdown",
   "metadata": {},
   "source": [
    "<font color=\"blue\">Exercise</font>: Use the input function to accept 2 inputs: \n",
    "1. Print \"What is your name:\", and then assign the first input to variable **name**  \n",
    "2.  Print \"How old are you:\", and then assign the first input to variable **age_yrs** after casting it to integer.\n",
    "\n",
    "Then call the **get_birthday_message** function earlier by parsing the arguments: **name** and **age_yrs**."
   ]
  },
  {
   "cell_type": "code",
   "execution_count": 29,
   "metadata": {},
   "outputs": [
    {
     "name": "stdout",
     "output_type": "stream",
     "text": [
      "What is your name: abc\n",
      "how old are you123\n"
     ]
    }
   ],
   "source": [
    "# YOUR CODE HERE\n",
    "name = str(input(\"What is your name: \"))\n",
    "age_yrs = int(input(\"how old are you\"))\n",
    "\n",
    "def get_birthday_message(name, age_yrs):\n",
    "    print(\"I'm \", name, \" and i'm year \", age_yrs)"
   ]
  },
  {
   "cell_type": "code",
   "execution_count": 30,
   "metadata": {},
   "outputs": [
    {
     "name": "stdout",
     "output_type": "stream",
     "text": [
      "I'm  abc  and i'm year  123\n"
     ]
    }
   ],
   "source": [
    "get_birthday_message(name,age_yrs)"
   ]
  },
  {
   "cell_type": "markdown",
   "metadata": {},
   "source": [
    "### Lower()\n",
    "\n",
    "The lower() methods returns the lowercased string from the given string."
   ]
  },
  {
   "cell_type": "code",
   "execution_count": 23,
   "metadata": {},
   "outputs": [
    {
     "name": "stdout",
     "output_type": "stream",
     "text": [
      "capital\n",
      "tudm\n"
     ]
    }
   ],
   "source": [
    "string1 = 'CAPITAL'\n",
    "print(string1.lower())\n",
    "  \n",
    "string2 = 'Tudm'\n",
    "print(string2.lower())"
   ]
  },
  {
   "cell_type": "code",
   "execution_count": 24,
   "metadata": {},
   "outputs": [
    {
     "data": {
      "text/plain": [
       "'capital'"
      ]
     },
     "execution_count": 24,
     "metadata": {},
     "output_type": "execute_result"
    }
   ],
   "source": [
    "string1.lower()"
   ]
  },
  {
   "cell_type": "code",
   "execution_count": null,
   "metadata": {},
   "outputs": [],
   "source": []
  },
  {
   "cell_type": "markdown",
   "metadata": {},
   "source": [
    "### Upper()\n",
    "The upper() methods returns the uppercased string from the given string. "
   ]
  },
  {
   "cell_type": "code",
   "execution_count": 22,
   "metadata": {},
   "outputs": [
    {
     "name": "stdout",
     "output_type": "stream",
     "text": [
      "ABDULLAH\n",
      "TUDM\n"
     ]
    }
   ],
   "source": [
    "string3 = 'abdullah'\n",
    "print(string3.upper())\n",
    "  \n",
    "string4 = 'Tudm'\n",
    "print(string4.upper())"
   ]
  },
  {
   "cell_type": "code",
   "execution_count": null,
   "metadata": {},
   "outputs": [],
   "source": []
  }
 ],
 "metadata": {
  "kernelspec": {
   "display_name": "Python 3 (ipykernel)",
   "language": "python",
   "name": "python3"
  },
  "language_info": {
   "codemirror_mode": {
    "name": "ipython",
    "version": 3
   },
   "file_extension": ".py",
   "mimetype": "text/x-python",
   "name": "python",
   "nbconvert_exporter": "python",
   "pygments_lexer": "ipython3",
   "version": "3.10.9"
  }
 },
 "nbformat": 4,
 "nbformat_minor": 4
}
