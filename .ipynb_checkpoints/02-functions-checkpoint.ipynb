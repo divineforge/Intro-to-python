{
 "cells": [
  {
   "cell_type": "markdown",
   "metadata": {},
   "source": [
    "## 2. Functions\n",
    "\n",
    "i. A function is a block of code which runs when it is called.\n",
    "\n",
    "ii. You can pass data, known as arguments, into a function.\n",
    "\n",
    "iii. A function can return data as a result.\n",
    "\n",
    "Python round() function returns a floating point number that is a rounded version of the specified number, with the specified number of decimals.\n",
    "\n",
    "round(number, digits)"
   ]
  },
  {
   "cell_type": "code",
   "execution_count": null,
   "metadata": {},
   "outputs": [],
   "source": [
    "round(10.2)"
   ]
  },
  {
   "cell_type": "code",
   "execution_count": null,
   "metadata": {},
   "outputs": [],
   "source": [
    "round(91.5122,1) #Round to 1 decimal"
   ]
  },
  {
   "cell_type": "markdown",
   "metadata": {},
   "source": [
    "The line above consists of four parts:\n",
    "\n",
    "1. The function name: **round**\n",
    "2. Open parenthesis **(**\n",
    "3. The argument: **10.2**\n",
    "3. Close parenthesis **)**"
   ]
  },
  {
   "cell_type": "markdown",
   "metadata": {},
   "source": [
    "<font color=\"blue\">Try</font>\n",
    ": Call the round function with an argument value of **11.3**:"
   ]
  },
  {
   "cell_type": "code",
   "execution_count": null,
   "metadata": {},
   "outputs": [],
   "source": []
  },
  {
   "cell_type": "markdown",
   "metadata": {},
   "source": [
    "the **abs** function will find the absolute value of whatever number that we give it as its argument, **abs(-100)** will return **100**."
   ]
  },
  {
   "cell_type": "markdown",
   "metadata": {},
   "source": [
    "<font color=\"blue\">Try</font>\n",
    ": Call the `abs` function with an argument value of `-2`:"
   ]
  },
  {
   "cell_type": "code",
   "execution_count": null,
   "metadata": {},
   "outputs": [],
   "source": []
  },
  {
   "cell_type": "code",
   "execution_count": null,
   "metadata": {},
   "outputs": [],
   "source": [
    "y = -1000\n",
    "abs(y)"
   ]
  },
  {
   "cell_type": "markdown",
   "metadata": {},
   "source": [
    "We try the `max` function with four numerical arguments:"
   ]
  },
  {
   "cell_type": "code",
   "execution_count": null,
   "metadata": {},
   "outputs": [],
   "source": [
    "max(2,10,3,80,99,4)"
   ]
  },
  {
   "cell_type": "code",
   "execution_count": null,
   "metadata": {},
   "outputs": [],
   "source": [
    "z = [1,2,3,4,5]\n",
    "max(z)"
   ]
  },
  {
   "cell_type": "code",
   "execution_count": null,
   "metadata": {},
   "outputs": [],
   "source": [
    "help(max)"
   ]
  },
  {
   "cell_type": "markdown",
   "metadata": {},
   "source": [
    "The **max** function returns the largest value out of all of its arguments(inputs). It consists of: \n",
    "\n",
    "1. *function name*: **max**\n",
    "2. Open parenthesis (\n",
    "3. Multiple arguments separated by commas: **2,10,3,80**\n",
    "4. Close parenthesis )\n"
   ]
  },
  {
   "cell_type": "code",
   "execution_count": null,
   "metadata": {},
   "outputs": [],
   "source": [
    "max(2,10,3,80)"
   ]
  },
  {
   "cell_type": "markdown",
   "metadata": {},
   "source": [
    "<font color=\"blue\">Try</font>: the **min** function returns the smallest value out of all its' arguments. Call the **min** function with the arguments, **10, 20, 5 and 6**:"
   ]
  },
  {
   "cell_type": "code",
   "execution_count": null,
   "metadata": {},
   "outputs": [],
   "source": []
  },
  {
   "cell_type": "code",
   "execution_count": null,
   "metadata": {},
   "outputs": [],
   "source": [
    "sum([1,2,3,4,5])"
   ]
  },
  {
   "cell_type": "code",
   "execution_count": null,
   "metadata": {},
   "outputs": [],
   "source": [
    "u = (1,4,6,7,8)\n",
    "min(u)"
   ]
  },
  {
   "cell_type": "code",
   "execution_count": null,
   "metadata": {},
   "outputs": [],
   "source": [
    "sum(u)"
   ]
  },
  {
   "cell_type": "code",
   "execution_count": null,
   "metadata": {},
   "outputs": [],
   "source": [
    "type(u)"
   ]
  },
  {
   "cell_type": "markdown",
   "metadata": {},
   "source": [
    "To find out the information about the function\n",
    "<span style=\"color:red;font-weight:bold\">Try</span>: Press **Shift-Tab** to view the help information for the function `round`:"
   ]
  },
  {
   "cell_type": "code",
   "execution_count": null,
   "metadata": {},
   "outputs": [],
   "source": [
    "round"
   ]
  },
  {
   "cell_type": "markdown",
   "metadata": {},
   "source": [
    "### Functions and Variables"
   ]
  },
  {
   "cell_type": "code",
   "execution_count": null,
   "metadata": {},
   "outputs": [],
   "source": [
    "# The following is a variable to store value 5\n",
    "var1=5.4"
   ]
  },
  {
   "cell_type": "code",
   "execution_count": null,
   "metadata": {},
   "outputs": [],
   "source": [
    "# We can pass the variable into a function\n",
    "round(var1)"
   ]
  },
  {
   "cell_type": "code",
   "execution_count": null,
   "metadata": {},
   "outputs": [],
   "source": [
    "# Then we can store the return value back into a variable\n",
    "rounded_number = round(var1)\n",
    "rounded_number"
   ]
  },
  {
   "cell_type": "markdown",
   "metadata": {},
   "source": [
    "<font color=\"blue\">Exercise</font>: Use the **min** function to find the minimum value from the numbers **2,5,19,1 and 3**. Store the result in a variable called **minimum_value**, then print the result by typing the variable name:"
   ]
  },
  {
   "cell_type": "code",
   "execution_count": null,
   "metadata": {},
   "outputs": [],
   "source": [
    "# YOUR CODE HERE\n"
   ]
  },
  {
   "cell_type": "markdown",
   "metadata": {},
   "source": [
    "### Creating Functions:\n",
    "The following function **return_ten** - will return back a value of 10 when it is called. \n",
    "1. **def** keyword will *define* a function. \n",
    "2. *function name*: `return_ten`\n",
    "3. Open parenthesis (\n",
    "4. Close parenthesis )\n",
    "5. Colon :\n",
    "6. *return* indicating what result is returned. Since the return statement is *inside* the function, it is indented to indicate its part of the function. "
   ]
  },
  {
   "cell_type": "code",
   "execution_count": null,
   "metadata": {},
   "outputs": [],
   "source": [
    "def return_ten():\n",
    "    return 10"
   ]
  },
  {
   "cell_type": "code",
   "execution_count": null,
   "metadata": {},
   "outputs": [],
   "source": [
    "# The following is how you call the function:\n",
    "return_ten()"
   ]
  },
  {
   "cell_type": "code",
   "execution_count": null,
   "metadata": {},
   "outputs": [],
   "source": [
    "# The following function will print \"got it\" and return 5 \n",
    "def give_me_five():\n",
    "    print(\"got it\")\n",
    "    return 5"
   ]
  },
  {
   "cell_type": "markdown",
   "metadata": {},
   "source": [
    "<font color=\"blue\">Try</font>: Try to call give_me_five()"
   ]
  },
  {
   "cell_type": "code",
   "execution_count": null,
   "metadata": {},
   "outputs": [],
   "source": []
  },
  {
   "cell_type": "markdown",
   "metadata": {},
   "source": [
    "<font color=\"blue\">Exercise</font>: \n",
    "Define a function named **get_no_of_states** that returns value **13**, then try calling it:"
   ]
  },
  {
   "cell_type": "code",
   "execution_count": null,
   "metadata": {},
   "outputs": [],
   "source": [
    "# YOUR CODE HERE\n",
    "\n"
   ]
  },
  {
   "cell_type": "code",
   "execution_count": null,
   "metadata": {},
   "outputs": [],
   "source": [
    "get_no_of_states()"
   ]
  },
  {
   "cell_type": "markdown",
   "metadata": {},
   "source": [
    "<font color=\"blue\">Exercise</font>: Define a function named **two_times_five** that returns the value **2 * 5**, then try calling it:"
   ]
  },
  {
   "cell_type": "code",
   "execution_count": null,
   "metadata": {},
   "outputs": [],
   "source": [
    "# YOUR CODE HERE\n",
    "\n"
   ]
  },
  {
   "cell_type": "code",
   "execution_count": null,
   "metadata": {},
   "outputs": [],
   "source": []
  },
  {
   "cell_type": "markdown",
   "metadata": {},
   "source": [
    "We can assign the return value from a function to a variable"
   ]
  },
  {
   "cell_type": "code",
   "execution_count": null,
   "metadata": {},
   "outputs": [],
   "source": [
    "this_variable_now_contains_five = give_me_five()\n",
    "this_variable_now_contains_five"
   ]
  },
  {
   "cell_type": "markdown",
   "metadata": {},
   "source": [
    "<font color=\"blue\">Exercise</font>: Assign the return value from function **return_ten()** to a variable **return_var**:"
   ]
  },
  {
   "cell_type": "code",
   "execution_count": null,
   "metadata": {},
   "outputs": [],
   "source": [
    "# YOUR CODE HERE\n"
   ]
  },
  {
   "cell_type": "code",
   "execution_count": null,
   "metadata": {},
   "outputs": [],
   "source": [
    "return_var"
   ]
  },
  {
   "cell_type": "markdown",
   "metadata": {},
   "source": [
    "The following function will calculate the area of a circle with a radius of 5:\n",
    "The formula for area of circle is **πr$^{2}$**\n"
   ]
  },
  {
   "cell_type": "code",
   "execution_count": null,
   "metadata": {},
   "outputs": [],
   "source": [
    "def cal_area_of_circle(radius):\n",
    "    return  3.14 * radius**2"
   ]
  },
  {
   "cell_type": "code",
   "execution_count": null,
   "metadata": {},
   "outputs": [],
   "source": [
    "cal_area_of_circle(5)"
   ]
  },
  {
   "cell_type": "code",
   "execution_count": null,
   "metadata": {},
   "outputs": [],
   "source": [
    "# We can store the return value from a function to a variable\n",
    "area_10 = cal_area_of_circle(10)\n",
    "area_10"
   ]
  },
  {
   "cell_type": "code",
   "execution_count": null,
   "metadata": {},
   "outputs": [],
   "source": [
    "cal_area_of_circle(11)"
   ]
  },
  {
   "cell_type": "code",
   "execution_count": null,
   "metadata": {},
   "outputs": [],
   "source": [
    "# The following function convert kg to g.\n",
    "def convert_kg_to_g(mass_in_kg):\n",
    "    return mass_in_kg * 1000"
   ]
  },
  {
   "cell_type": "code",
   "execution_count": null,
   "metadata": {},
   "outputs": [],
   "source": [
    "convert_kg_to_g(2)"
   ]
  },
  {
   "cell_type": "code",
   "execution_count": null,
   "metadata": {},
   "outputs": [],
   "source": [
    "# The following function add 3 to a number\n",
    "def add_three(num):\n",
    "    return num + 3\n",
    "add_three(5)"
   ]
  },
  {
   "cell_type": "code",
   "execution_count": null,
   "metadata": {},
   "outputs": [],
   "source": [
    "add_three(9)"
   ]
  },
  {
   "cell_type": "markdown",
   "metadata": {},
   "source": [
    "<font color=\"blue\">Exercise</font>: Define a function called **scale_by_four** that takes a single argument, multiplies its value by **4**, and returns the result. On the next line (after your function definition), call your function with the argument value **5**."
   ]
  },
  {
   "cell_type": "code",
   "execution_count": null,
   "metadata": {},
   "outputs": [],
   "source": [
    "# YOUR CODE HERE\n"
   ]
  },
  {
   "cell_type": "code",
   "execution_count": null,
   "metadata": {},
   "outputs": [],
   "source": []
  },
  {
   "cell_type": "markdown",
   "metadata": {},
   "source": [
    "##  Common Mistakes (in Functions)\n",
    "### 1. Reuse the function name\n",
    "**Never** reuse the same name of a function for other things. In the following example, the programmer has mistakenly use the same name of a function as a variable:"
   ]
  },
  {
   "cell_type": "code",
   "execution_count": null,
   "metadata": {},
   "outputs": [],
   "source": [
    "def times_twenty(number):\n",
    "    '''times twenty multiply the value by 20'''\n",
    "    return number * 20\n"
   ]
  },
  {
   "cell_type": "code",
   "execution_count": null,
   "metadata": {},
   "outputs": [],
   "source": [
    "times_twenty = times_twenty(200)"
   ]
  },
  {
   "cell_type": "code",
   "execution_count": null,
   "metadata": {},
   "outputs": [],
   "source": [
    "# It may seems ok at first\n",
    "times_twenty"
   ]
  },
  {
   "cell_type": "code",
   "execution_count": null,
   "metadata": {},
   "outputs": [],
   "source": [
    "type(times_twenty)"
   ]
  },
  {
   "cell_type": "markdown",
   "metadata": {},
   "source": [
    "<span style=\"color:red;font-weight:bold\">error</span> when you try to call the function again."
   ]
  },
  {
   "cell_type": "code",
   "execution_count": null,
   "metadata": {},
   "outputs": [],
   "source": [
    "times_twenty(3)"
   ]
  },
  {
   "cell_type": "markdown",
   "metadata": {},
   "source": [
    "### 2. Improper Indentation\n",
    "\n",
    "Indentation is very important in Python\n",
    "\n",
    "Indentation refers to the spaces at the beginning of a code line.\n",
    "\n",
    "Python uses indentation to indicate a block of code."
   ]
  },
  {
   "cell_type": "code",
   "execution_count": null,
   "metadata": {},
   "outputs": [],
   "source": [
    "def times_twenty(num):\n",
    "return num * 20 # No indentation"
   ]
  },
  {
   "cell_type": "code",
   "execution_count": null,
   "metadata": {},
   "outputs": [],
   "source": [
    "times_twenty(9)"
   ]
  },
  {
   "cell_type": "markdown",
   "metadata": {},
   "source": [
    "### 3. Variable Scope\n",
    "\n",
    "When you define a function, the variables declared inside that function are not accessible outside of the function."
   ]
  },
  {
   "cell_type": "code",
   "execution_count": null,
   "metadata": {},
   "outputs": [],
   "source": [
    "def times_twenty(num):\n",
    "    return num * 20 #num is a local variable\n",
    "\n",
    "times_twenty(10)"
   ]
  },
  {
   "cell_type": "code",
   "execution_count": null,
   "metadata": {},
   "outputs": [],
   "source": [
    "# This will return NameError\n",
    "num"
   ]
  },
  {
   "cell_type": "code",
   "execution_count": null,
   "metadata": {},
   "outputs": [],
   "source": []
  },
  {
   "cell_type": "markdown",
   "metadata": {},
   "source": [
    "### 4. Don't use Python's Keyword in function\n",
    "\n",
    "Never use python keyword as variable name or function name. If it is neccessary to use similar name, you should add underscore(_) at the back of the name."
   ]
  },
  {
   "cell_type": "code",
   "execution_count": null,
   "metadata": {},
   "outputs": [],
   "source": [
    "def True(num):\n",
    "    return num"
   ]
  },
  {
   "cell_type": "code",
   "execution_count": null,
   "metadata": {},
   "outputs": [],
   "source": []
  },
  {
   "cell_type": "markdown",
   "metadata": {},
   "source": [
    "\n",
    "The following example illustrates the advantage of using functions:\n",
    "The objective is to calculate the amount of interest that we need to pay each of our customers."
   ]
  },
  {
   "cell_type": "code",
   "execution_count": null,
   "metadata": {},
   "outputs": [],
   "source": [
    "# If there is only one customer, we can use the following lines of codes\n",
    "account_balance = 3000\n",
    "interest_rate = 0.03\n",
    "interest_payment = account_balance * interest_rate\n",
    "interest_payment"
   ]
  },
  {
   "cell_type": "markdown",
   "metadata": {},
   "source": [
    "However if we have many customers and fluctuating interest rates we should use a function"
   ]
  },
  {
   "cell_type": "code",
   "execution_count": null,
   "metadata": {},
   "outputs": [],
   "source": [
    "# A function can accept more than one arguments as follows\n",
    "def cal_interest(account_balance, interest_rate):\n",
    "    return account_balance * interest_rate"
   ]
  },
  {
   "cell_type": "code",
   "execution_count": null,
   "metadata": {},
   "outputs": [],
   "source": [
    "#customer 1\n",
    "cal_interest(3000, 0.03)"
   ]
  },
  {
   "cell_type": "code",
   "execution_count": null,
   "metadata": {},
   "outputs": [],
   "source": [
    "#customer 2\n",
    "cal_interest(2000, 0.01)"
   ]
  },
  {
   "cell_type": "code",
   "execution_count": null,
   "metadata": {},
   "outputs": [],
   "source": [
    "def get_value():\n",
    "    return 100"
   ]
  },
  {
   "cell_type": "code",
   "execution_count": null,
   "metadata": {},
   "outputs": [],
   "source": [
    "y=get_value()\n",
    "cal_interest(y, 0.01)"
   ]
  },
  {
   "cell_type": "markdown",
   "metadata": {},
   "source": [
    "<font color=\"blue\">Exercise</font>:\n",
    "Use the function `cal_interest` above to calculate the following:\n",
    "1. RM 4000 , 4% interest and assigne it to variable 'customer1'\n",
    "1. RM 5000 , 2% interest and assigne it to variable 'customer2'"
   ]
  },
  {
   "cell_type": "code",
   "execution_count": null,
   "metadata": {},
   "outputs": [],
   "source": [
    "# YOUR CODE HERE\n"
   ]
  },
  {
   "cell_type": "code",
   "execution_count": null,
   "metadata": {},
   "outputs": [],
   "source": [
    "cal_interest(5000,0.02)\n",
    "cal_interest(4000,0.04)"
   ]
  },
  {
   "cell_type": "markdown",
   "metadata": {},
   "source": [
    "<font color=\"blue\">Exercise</font>:\n",
    "Write a function called `cal_gross_profit` to calculate the gross profit for selling a certain number of products (`n_sales`) at a price (`price`), minus a certain flat courier cost (`courier_cost`). Use your function to calculate the gross profit for selling `100` products at a price of `RM50` with a courier cost of `RM200`:"
   ]
  },
  {
   "cell_type": "code",
   "execution_count": null,
   "metadata": {},
   "outputs": [],
   "source": [
    "# YOUR CODE HERE\n"
   ]
  },
  {
   "cell_type": "code",
   "execution_count": null,
   "metadata": {},
   "outputs": [],
   "source": [
    "print(cal_gross_profit(100, 50, 200))"
   ]
  },
  {
   "cell_type": "markdown",
   "metadata": {},
   "source": [
    "In a longer function the  `return` statement should always be written on the last line."
   ]
  },
  {
   "cell_type": "code",
   "execution_count": null,
   "metadata": {},
   "outputs": [],
   "source": [
    "# The following function will calculate the profit margin given the revenue and expenses\n",
    "\n",
    "def cal_profit_margin_percent(revenue, expenses):\n",
    "    profit = revenue - expenses\n",
    "    profit_margin = profit/revenue\n",
    "    profit_margin_percent = profit_margin*100\n",
    "    return profit_margin_percent"
   ]
  },
  {
   "cell_type": "code",
   "execution_count": null,
   "metadata": {},
   "outputs": [],
   "source": [
    "# To calculate the profit margin percentage if the revenue is RM100 and expenses/costs is RM 58\n",
    "cal_profit_margin_percent(100, 58)"
   ]
  },
  {
   "cell_type": "markdown",
   "metadata": {},
   "source": [
    "<font color=\"blue\">Exercise</font>:\n",
    "Write a function called `cal_mortgage` to calculate the montly mortgage repayment. The function should accept 3 arguments: <br>\n",
    "i. `principal` - loan amount i.e 100000<br>\n",
    "ii. `interest` - interest rate i.e 6% <br>\n",
    "iii. `term` -  number of years to repay. i.e 30 years<br>\n",
    "\n",
    "You may use the following formulas to calculate the repayment. <br>\n",
    "\n",
    "a. monthly rate from annual percentage rate<br>\n",
    "interest_rate = interest/100/12\n",
    "\n",
    "b. total number of payments<br>\n",
    "payment_num = term * 12 \n",
    "\n",
    "c. calculate monthly payment <br>\n",
    "payment = principal * (interest_rate/(1-((1+interest_rate)**(-payment_num))))\n",
    "\n",
    "The function should return `payment` which is the monthly repayment amount. Use your function to calculate the monthly payment for the principal loan amount RM100000, interest rate 6% and term 30 years. You may run the following function call:\n",
    "\n",
    "cal_mortgage(100000,6,30)"
   ]
  },
  {
   "cell_type": "code",
   "execution_count": null,
   "metadata": {},
   "outputs": [],
   "source": [
    "# YOUR CODE HERE\n"
   ]
  },
  {
   "cell_type": "code",
   "execution_count": null,
   "metadata": {},
   "outputs": [],
   "source": [
    "monthly_mortgage=cal_mortgage(100000,6,30)\n",
    "monthly_mortgage"
   ]
  },
  {
   "cell_type": "code",
   "execution_count": null,
   "metadata": {},
   "outputs": [],
   "source": [
    "\"RM{:.2f}\".format(monthly_mortgage)"
   ]
  },
  {
   "cell_type": "code",
   "execution_count": null,
   "metadata": {},
   "outputs": [],
   "source": []
  }
 ],
 "metadata": {
  "kernelspec": {
   "display_name": "Python 3 (ipykernel)",
   "language": "python",
   "name": "python3"
  },
  "language_info": {
   "codemirror_mode": {
    "name": "ipython",
    "version": 3
   },
   "file_extension": ".py",
   "mimetype": "text/x-python",
   "name": "python",
   "nbconvert_exporter": "python",
   "pygments_lexer": "ipython3",
   "version": "3.10.7"
  }
 },
 "nbformat": 4,
 "nbformat_minor": 4
}
