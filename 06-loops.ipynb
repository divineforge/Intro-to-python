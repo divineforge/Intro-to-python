{
 "cells": [
  {
   "cell_type": "markdown",
   "metadata": {},
   "source": [
    "## 6. Loops\n",
    "\n",
    "A loop is a sequence of instruction s that is continually repeated until a certain condition is reached.\n",
    "\n",
    "A for loop can be used to loop through a List:\n"
   ]
  },
  {
   "cell_type": "code",
   "execution_count": 1,
   "metadata": {},
   "outputs": [
    {
     "name": "stdout",
     "output_type": "stream",
     "text": [
      "Item:  first element\n",
      "Item:  second element\n",
      "Item:  third element\n"
     ]
    }
   ],
   "source": [
    "my_list = [\"first element\", \"second element\", \"third element\"]\n",
    "for item in my_list:\n",
    "    print(\"Item: \", item)"
   ]
  },
  {
   "cell_type": "markdown",
   "metadata": {},
   "source": [
    "The following code loop through each item in the list and print the length of each element:"
   ]
  },
  {
   "cell_type": "code",
   "execution_count": 2,
   "metadata": {},
   "outputs": [
    {
     "name": "stdout",
     "output_type": "stream",
     "text": [
      "5\n",
      "3\n",
      "3\n",
      "3\n"
     ]
    }
   ],
   "source": [
    "my_list2 = [\"hello\", \"how\", \"are\", \"you\"]\n",
    "for word in my_list2:\n",
    "    word_len = len(word)\n",
    "    print(word_len)"
   ]
  },
  {
   "cell_type": "markdown",
   "metadata": {},
   "source": [
    "<font color=\"blue\">Exercise</font>: Define a variable (list) `name_list` with the value `[\"Aminah\", \"john\", \"Lee\", \"Mohd\"]`, then use a `for` loop to loop through and print a welcome message `\"Hi [name] how are you?\"` for each name."
   ]
  },
  {
   "cell_type": "code",
   "execution_count": 9,
   "metadata": {},
   "outputs": [
    {
     "name": "stdout",
     "output_type": "stream",
     "text": [
      "Hi Aminah how are you?\n",
      "Hi john how are you?\n",
      "Hi Lee how are you?\n",
      "Hi Mohd how are you?\n"
     ]
    }
   ],
   "source": [
    "my_list = [\"Aminah\", \"john\", \"Lee\", \"Mohd\"]\n",
    "# YOUR CODE HERE\n",
    "for ppl in my_list:\n",
    "    print(\"Hi\",ppl,\"how are you?\")\n"
   ]
  },
  {
   "cell_type": "code",
   "execution_count": null,
   "metadata": {},
   "outputs": [],
   "source": []
  },
  {
   "cell_type": "code",
   "execution_count": null,
   "metadata": {},
   "outputs": [],
   "source": [
    "# the following codes will calculate the average number of letters (of words) in a list of words:\n",
    "words = [\"python\", \"is\", \"really\", \"great\"]\n",
    "lcount = 0\n",
    "for word in words:\n",
    "    lcount = lcount + len(word)\n",
    "    \n",
    "average_num_of_letters = lcount/len(words)\n",
    "print(average_num_of_letters)"
   ]
  },
  {
   "cell_type": "markdown",
   "metadata": {},
   "source": [
    "### While Loop\n",
    "You can loop through the list items by using a while loop.\n",
    "\n",
    "while conditional_expression: <br>\n",
    "&emsp; instruction_one<br>\n",
    "&emsp; instruction_two<br>\n",
    "&emsp; instruction_three<br>\n",
    "&emsp; instruction_four<br>\n",
    "&emsp; instruction...n<br>"
   ]
  },
  {
   "cell_type": "code",
   "execution_count": null,
   "metadata": {},
   "outputs": [],
   "source": [
    "i=0\n",
    "while i < len(words):\n",
    "  print(words[i])\n",
    "  i += 1 "
   ]
  },
  {
   "cell_type": "code",
   "execution_count": null,
   "metadata": {},
   "outputs": [],
   "source": [
    "for i in words:\n",
    "    print(i)"
   ]
  },
  {
   "cell_type": "code",
   "execution_count": null,
   "metadata": {},
   "outputs": [],
   "source": [
    "counter = 5\n",
    "while counter:\n",
    "    print(\"I am in.\", counter)\n",
    "    counter -= 1\n",
    "print(\"I am  out.\", counter)"
   ]
  },
  {
   "cell_type": "code",
   "execution_count": null,
   "metadata": {},
   "outputs": [],
   "source": [
    "# convert 0 to boolean will return false\n",
    "bool(0)"
   ]
  },
  {
   "cell_type": "markdown",
   "metadata": {},
   "source": [
    "### Common Mistakes when Using Loops\n",
    "\n",
    "#### Wrongly `return` inside a loop\n"
   ]
  },
  {
   "cell_type": "code",
   "execution_count": 10,
   "metadata": {},
   "outputs": [],
   "source": [
    "def multiply_numbers(list_of_numbers):\n",
    "    total = 1\n",
    "    for number in list_of_numbers:\n",
    "        total = total * number\n",
    "        return total"
   ]
  },
  {
   "cell_type": "code",
   "execution_count": 11,
   "metadata": {},
   "outputs": [
    {
     "data": {
      "text/plain": [
       "2"
      ]
     },
     "execution_count": 11,
     "metadata": {},
     "output_type": "execute_result"
    }
   ],
   "source": [
    "# 2 * 5 * 8 should be 80\n",
    "multiply_numbers([2,5,8])"
   ]
  },
  {
   "cell_type": "markdown",
   "metadata": {},
   "source": [
    "<font color=\"blue\">Try</font> to correct the function above."
   ]
  },
  {
   "cell_type": "code",
   "execution_count": null,
   "metadata": {},
   "outputs": [],
   "source": []
  },
  {
   "cell_type": "markdown",
   "metadata": {},
   "source": [
    "#### Accidentally define a variable inside of a loop\n",
    "\n",
    "In the example above, we counted letters using this code:"
   ]
  },
  {
   "cell_type": "code",
   "execution_count": null,
   "metadata": {},
   "outputs": [],
   "source": [
    "for word in words:\n",
    "    lcount = 0\n",
    "    lcount = lcount + len(word)\n",
    "print(lcount)"
   ]
  },
  {
   "cell_type": "markdown",
   "metadata": {},
   "source": [
    "<font color=\"blue\">Exercise</font>: Write a Python function called **find_longest_word** that accepts one list variable called **word_list** as an argument and returns the longest word in that list. For Example\n",
    "\n",
    "find_longest_word([\"these\", \"are\", \"the\", \"selected\",\"words\"])\n",
    "\n",
    "Return: 'selected'"
   ]
  },
  {
   "cell_type": "code",
   "execution_count": 28,
   "metadata": {},
   "outputs": [],
   "source": [
    "# YOUR CODE HERE\n",
    "def find_longest_word(word_list):\n",
    "    longest = '';\n",
    "    for word in word_list:\n",
    "        if len(word) > len(longest):\n",
    "            longest = word\n",
    "            print(\"found longer,\",longest,\",len:\",len(longest))\n",
    "    return longest"
   ]
  },
  {
   "cell_type": "code",
   "execution_count": 27,
   "metadata": {},
   "outputs": [
    {
     "name": "stdout",
     "output_type": "stream",
     "text": [
      "found longer, these len: 5\n",
      "found longer, selected len: 8\n"
     ]
    },
    {
     "data": {
      "text/plain": [
       "'selected'"
      ]
     },
     "execution_count": 27,
     "metadata": {},
     "output_type": "execute_result"
    }
   ],
   "source": [
    "find_longest_word([\"these\", \"are\", \"the\", \"selected\",\"words\"])"
   ]
  },
  {
   "cell_type": "markdown",
   "metadata": {},
   "source": [
    "### Looping over Ranges of Numbers "
   ]
  },
  {
   "cell_type": "code",
   "execution_count": 47,
   "metadata": {},
   "outputs": [
    {
     "name": "stdout",
     "output_type": "stream",
     "text": [
      "1\n",
      "2\n",
      "3\n",
      "4\n",
      "5\n",
      "6\n",
      "7\n"
     ]
    }
   ],
   "source": [
    "number_list = [1,2,3,4,5,6,7]\n",
    "for num in number_list:\n",
    "    print(num)"
   ]
  },
  {
   "cell_type": "markdown",
   "metadata": {},
   "source": [
    "Use the `range` function in our for loop to print 0 to 10:"
   ]
  },
  {
   "cell_type": "code",
   "execution_count": 48,
   "metadata": {},
   "outputs": [
    {
     "name": "stdout",
     "output_type": "stream",
     "text": [
      "0\n",
      "1\n",
      "2\n",
      "3\n",
      "4\n",
      "5\n",
      "6\n",
      "7\n",
      "8\n",
      "9\n",
      "10\n"
     ]
    }
   ],
   "source": [
    "for num in range(0, 11):\n",
    "    print(num)"
   ]
  },
  {
   "cell_type": "code",
   "execution_count": 49,
   "metadata": {},
   "outputs": [
    {
     "name": "stdout",
     "output_type": "stream",
     "text": [
      "num: 0\n",
      "num: 1\n",
      "num: 2\n",
      "num: 3\n",
      "num: 4\n",
      "num: 5\n",
      "num: 6\n",
      "num: 7\n",
      "num: 8\n",
      "num: 9\n"
     ]
    }
   ],
   "source": [
    "# the last control variable's value is 9 (not 10, as it starts from 0)\n",
    "for num in range(10):\n",
    "    print(\"num:\", num)"
   ]
  },
  {
   "cell_type": "code",
   "execution_count": 50,
   "metadata": {},
   "outputs": [
    {
     "name": "stdout",
     "output_type": "stream",
     "text": [
      "range does work in descending order 10\n",
      "range does work in descending order 9\n",
      "range does work in descending order 8\n",
      "range does work in descending order 7\n",
      "range does work in descending order 6\n",
      "range does work in descending order 5\n",
      "range does work in descending order 4\n",
      "range does work in descending order 3\n",
      "range does work in descending order 2\n"
     ]
    }
   ],
   "source": [
    "# Check if there is any output?\n",
    "for num in range(10, 1,-1):\n",
    "    print(\"range does work in descending order\", num)"
   ]
  },
  {
   "cell_type": "markdown",
   "metadata": {},
   "source": [
    "<font color=\"blue\">Try</font>: Write a `for` loop to print the numbers from `10` to `20` (inclusive)"
   ]
  },
  {
   "cell_type": "code",
   "execution_count": 51,
   "metadata": {},
   "outputs": [
    {
     "name": "stdout",
     "output_type": "stream",
     "text": [
      "10\n",
      "11\n",
      "12\n",
      "13\n",
      "14\n",
      "15\n",
      "16\n",
      "17\n",
      "18\n",
      "19\n",
      "20\n"
     ]
    }
   ],
   "source": [
    "for num in range(10,21,1):\n",
    "    print(num)"
   ]
  },
  {
   "cell_type": "code",
   "execution_count": 52,
   "metadata": {},
   "outputs": [
    {
     "name": "stdout",
     "output_type": "stream",
     "text": [
      "0\n",
      "3\n",
      "6\n"
     ]
    }
   ],
   "source": [
    "# range(start, stop, step)\n",
    "for i in range(0, 9, 3):\n",
    "    print(i)"
   ]
  },
  {
   "cell_type": "markdown",
   "metadata": {},
   "source": [
    "<font color=\"blue\">Exercise</font>: Sum of the first n positive integers. Write a function called `sum_n` that accepts as input a positive number variable called `n`. The function should returns the sum of all positive integers less than or equal to `n`.\n",
    "\n",
    "For example, **sum_n(5)** should return **15**. \n"
   ]
  },
  {
   "cell_type": "code",
   "execution_count": 42,
   "metadata": {},
   "outputs": [],
   "source": [
    "# YOUR CODE HERE\n",
    "def sum_n(n):\n",
    "    abc=0\n",
    "    for i in range(0,n+1,1):\n",
    "        abc+=i\n",
    "    return abc"
   ]
  },
  {
   "cell_type": "code",
   "execution_count": 43,
   "metadata": {},
   "outputs": [
    {
     "data": {
      "text/plain": [
       "21"
      ]
     },
     "execution_count": 43,
     "metadata": {},
     "output_type": "execute_result"
    }
   ],
   "source": [
    "sum_n(6)"
   ]
  },
  {
   "cell_type": "markdown",
   "metadata": {},
   "source": [
    "## Break / Continue\n",
    "\n",
    "break - exits the loop immediately.\n",
    "\n",
    "continue - go to the end of the body."
   ]
  },
  {
   "cell_type": "code",
   "execution_count": 45,
   "metadata": {},
   "outputs": [
    {
     "name": "stdout",
     "output_type": "stream",
     "text": [
      "How break works:\n",
      "Looping. 1\n",
      "Looping. 2\n",
      "Looping. 3\n",
      "Looping. 4\n",
      "Outside the loop.\n"
     ]
    }
   ],
   "source": [
    "print(\"How break works:\")\n",
    "for i in range(1, 10):\n",
    "    if i == 5:\n",
    "        break\n",
    "    print(\"Looping.\", i)\n",
    "print(\"Outside the loop.\")\n"
   ]
  },
  {
   "cell_type": "code",
   "execution_count": 44,
   "metadata": {},
   "outputs": [
    {
     "name": "stdout",
     "output_type": "stream",
     "text": [
      "1\n",
      "2\n"
     ]
    }
   ],
   "source": [
    "for i in range(1, 10):\n",
    "    if i == 3:\n",
    "        break\n",
    "    print(i)"
   ]
  },
  {
   "cell_type": "code",
   "execution_count": null,
   "metadata": {},
   "outputs": [],
   "source": [
    "10 == 20"
   ]
  },
  {
   "cell_type": "code",
   "execution_count": 46,
   "metadata": {},
   "outputs": [
    {
     "name": "stdout",
     "output_type": "stream",
     "text": [
      "How continue works:\n",
      "Looping. 1\n",
      "Looping. 2\n",
      "Looping. 3\n",
      "Looping. 4\n",
      "Looping. 6\n",
      "Looping. 7\n",
      "Outside the loop.\n"
     ]
    }
   ],
   "source": [
    "print(\"How continue works:\")\n",
    "for i in range(1, 8):\n",
    "    if i == 5:\n",
    "        continue\n",
    "    print(\"Looping.\", i)\n",
    "print(\"Outside the loop.\")"
   ]
  },
  {
   "cell_type": "code",
   "execution_count": null,
   "metadata": {},
   "outputs": [],
   "source": []
  },
  {
   "cell_type": "code",
   "execution_count": null,
   "metadata": {},
   "outputs": [],
   "source": []
  },
  {
   "cell_type": "code",
   "execution_count": null,
   "metadata": {},
   "outputs": [],
   "source": []
  }
 ],
 "metadata": {
  "kernelspec": {
   "display_name": "Python 3 (ipykernel)",
   "language": "python",
   "name": "python3"
  },
  "language_info": {
   "codemirror_mode": {
    "name": "ipython",
    "version": 3
   },
   "file_extension": ".py",
   "mimetype": "text/x-python",
   "name": "python",
   "nbconvert_exporter": "python",
   "pygments_lexer": "ipython3",
   "version": "3.10.9"
  }
 },
 "nbformat": 4,
 "nbformat_minor": 4
}
