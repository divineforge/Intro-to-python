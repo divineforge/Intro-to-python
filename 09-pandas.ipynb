{
 "cells": [
  {
   "cell_type": "markdown",
   "metadata": {},
   "source": [
    "## 9.Pandas - Python Data Analysis Library\n",
    "Pandas can transform a simple array of numbers into an Excel-spreadsheet-like object called a *DataFrame* using the code below:"
   ]
  },
  {
   "cell_type": "code",
   "execution_count": null,
   "metadata": {},
   "outputs": [],
   "source": [
    "# Import pandas module\n",
    "import pandas as pd"
   ]
  },
  {
   "cell_type": "code",
   "execution_count": null,
   "metadata": {},
   "outputs": [],
   "source": [
    "\n",
    "my_data = [\n",
    "    [211,32300,11000],\n",
    "    [322,43922,12010],\n",
    "    [280,37222,10800],\n",
    "    [120,26511,9702]\n",
    "]\n",
    "df_sales = pd.DataFrame(my_data, columns=[\"quantity\", \"revenue\", \"profit\"])\n",
    "df_sales"
   ]
  },
  {
   "cell_type": "markdown",
   "metadata": {},
   "source": [
    "### The values of the DataFrame\n",
    "the values will return a numpy array"
   ]
  },
  {
   "cell_type": "code",
   "execution_count": null,
   "metadata": {},
   "outputs": [],
   "source": [
    "df_sales.values"
   ]
  },
  {
   "cell_type": "code",
   "execution_count": null,
   "metadata": {},
   "outputs": [],
   "source": [
    "# The type of dataframe values is actually numpy array\n",
    "type(df_sales.values)"
   ]
  },
  {
   "cell_type": "code",
   "execution_count": null,
   "metadata": {},
   "outputs": [],
   "source": [
    "# To view the columns of a dataframe\n",
    "df_sales.columns"
   ]
  },
  {
   "cell_type": "code",
   "execution_count": null,
   "metadata": {},
   "outputs": [],
   "source": [
    "# rows' label are stored in index attribute\n",
    "df_sales.index"
   ]
  },
  {
   "cell_type": "code",
   "execution_count": null,
   "metadata": {},
   "outputs": [],
   "source": [
    "# Return number of elements in the dataframe\n",
    "df_sales.size"
   ]
  },
  {
   "cell_type": "code",
   "execution_count": null,
   "metadata": {},
   "outputs": [],
   "source": [
    "# data types of the columns\n",
    "df_sales.dtypes"
   ]
  },
  {
   "cell_type": "markdown",
   "metadata": {},
   "source": [
    "To relabel the columns of a DataFrame, we can simply assign a new list of labels to the `columns` attribute:"
   ]
  },
  {
   "cell_type": "code",
   "execution_count": null,
   "metadata": {},
   "outputs": [],
   "source": [
    "df_sales.columns = ['Qty', 'Rev', 'Pro']"
   ]
  },
  {
   "cell_type": "code",
   "execution_count": null,
   "metadata": {},
   "outputs": [],
   "source": [
    "df_sales"
   ]
  },
  {
   "cell_type": "markdown",
   "metadata": {},
   "source": [
    "<span style=\"color:red;font-weight:bold\">Try</span>: Assign a new value to the `index` attribute of df_sales to relabel 0,1,2,3 to 'Q1','Q2','Q3','Q4'."
   ]
  },
  {
   "cell_type": "code",
   "execution_count": null,
   "metadata": {},
   "outputs": [],
   "source": [
    "# TRY\n"
   ]
  },
  {
   "cell_type": "markdown",
   "metadata": {},
   "source": [
    "##  Pandas Read CSV\n",
    "CSV file can be loaded into pandas using `pd.read_csv`. \n",
    "\n",
    "The survey CSV file contain customers' answers to customer satisfaction survey performed by the San Francisco International Airport in year 2017 ([source](https://www.flysfo.com/media/customer-survey-data))."
   ]
  },
  {
   "cell_type": "code",
   "execution_count": null,
   "metadata": {},
   "outputs": [],
   "source": [
    "df_survey = pd.read_csv('data/sfo_2017_data file_final_weighted.csv')\n",
    "df_survey"
   ]
  },
  {
   "cell_type": "code",
   "execution_count": null,
   "metadata": {},
   "outputs": [],
   "source": [
    "type(df_survey)"
   ]
  },
  {
   "cell_type": "code",
   "execution_count": null,
   "metadata": {},
   "outputs": [],
   "source": [
    "# Shape return the number of rows and columns\n",
    "df_survey.shape"
   ]
  },
  {
   "cell_type": "markdown",
   "metadata": {},
   "source": [
    "### We would like to select the columns  related to Rating of San Francisco International Airport\n",
    "The columns related to the rating of SFO are Q7A until Q7O\n",
    "\n",
    "Referring to the code guide, the interpretation of the scores as follows: <br>\n",
    "5 Outstanding <br>\n",
    "4 <br>\n",
    "3 <br>\n",
    "2 <br>\n",
    "1 Unacceptable <br>\n",
    "6 Have never used or visited / Not applicable <br>\n",
    "0 Blank"
   ]
  },
  {
   "cell_type": "code",
   "execution_count": null,
   "metadata": {},
   "outputs": [],
   "source": [
    "# The following code will slice the column Q7A until Q7O\n",
    "df_survey=df_survey.loc[:,'Q7A':'Q7O']"
   ]
  },
  {
   "cell_type": "code",
   "execution_count": null,
   "metadata": {},
   "outputs": [],
   "source": [
    "# We will then change the column name to a meaningful name for our analytics\n",
    "df_survey.columns=['ART','FOOD','STORE','SIGN','WALKWAYS','SCREENS','INFODOWN','INFOUP','WIFI','ROADS','PARK','AIRTRAIN', \n",
    "                    'LTPARKING','RENTAL','ALL']"
   ]
  },
  {
   "cell_type": "code",
   "execution_count": null,
   "metadata": {},
   "outputs": [],
   "source": [
    "# To view the first 5 rows\n",
    "df_survey.head()"
   ]
  },
  {
   "cell_type": "code",
   "execution_count": null,
   "metadata": {},
   "outputs": [],
   "source": [
    "# Recheck the current shape of the dataframe\n",
    "df_survey.shape"
   ]
  },
  {
   "cell_type": "markdown",
   "metadata": {},
   "source": [
    "## Filtering the dataframe\n",
    "\n",
    "### Selecting Columns\n",
    "\n",
    "You may access the data in a particular column of a DataFrame using the `[...]` operator:"
   ]
  },
  {
   "cell_type": "code",
   "execution_count": null,
   "metadata": {},
   "outputs": [],
   "source": [
    "df_survey['SIGN']"
   ]
  },
  {
   "cell_type": "code",
   "execution_count": null,
   "metadata": {},
   "outputs": [],
   "source": [
    "# Alternative way of selecting column using .\n",
    "df_survey.SIGN"
   ]
  },
  {
   "cell_type": "markdown",
   "metadata": {},
   "source": [
    "If we check the **type()** of a column, it is actually a **Pandas's series** object, which is a one dimensional array: "
   ]
  },
  {
   "cell_type": "code",
   "execution_count": null,
   "metadata": {},
   "outputs": [],
   "source": [
    "# A Single column is actually a panda series\n",
    "type(df_survey['SIGN'])"
   ]
  },
  {
   "cell_type": "code",
   "execution_count": null,
   "metadata": {},
   "outputs": [],
   "source": [
    "# Minimum score for SIGN column\n",
    "df_survey['SIGN'].min()"
   ]
  },
  {
   "cell_type": "markdown",
   "metadata": {},
   "source": [
    "<span style=\"color:red;font-weight:bold\">Try</span>: Calculate the average response to the `'WALKWAYS'` survey question using the **.mean()** function:"
   ]
  },
  {
   "cell_type": "code",
   "execution_count": null,
   "metadata": {},
   "outputs": [],
   "source": [
    "# TRY\n"
   ]
  },
  {
   "cell_type": "code",
   "execution_count": null,
   "metadata": {},
   "outputs": [],
   "source": [
    "# Selecting Multiple Columns\n",
    "columns_we_want = ['FOOD', 'WIFI']\n",
    "df_survey[columns_we_want]"
   ]
  },
  {
   "cell_type": "code",
   "execution_count": null,
   "metadata": {},
   "outputs": [],
   "source": [
    "df_survey[['FOOD', 'WIFI']]"
   ]
  },
  {
   "cell_type": "code",
   "execution_count": null,
   "metadata": {},
   "outputs": [],
   "source": [
    "df_survey[2:8]"
   ]
  },
  {
   "cell_type": "markdown",
   "metadata": {},
   "source": [
    "#### Value counts\n",
    "Return a Series containing counts of unique rows in the DataFrame."
   ]
  },
  {
   "cell_type": "code",
   "execution_count": null,
   "metadata": {},
   "outputs": [],
   "source": [
    "df_survey['SIGN'].value_counts()"
   ]
  },
  {
   "cell_type": "code",
   "execution_count": null,
   "metadata": {},
   "outputs": [],
   "source": [
    "# Sort the index\n",
    "df_survey['SIGN'].value_counts(sort=False).sort_index()"
   ]
  },
  {
   "cell_type": "markdown",
   "metadata": {},
   "source": [
    "#### Filtering using loc\n",
    "Rows can be selected using the `loc` attribute of a DataFrame,\n",
    "loc can be used to access a group of rows and columns by label(s)."
   ]
  },
  {
   "cell_type": "code",
   "execution_count": null,
   "metadata": {},
   "outputs": [],
   "source": [
    "# To check the score of the 3rd survey respondent\n",
    "row = df_survey.loc[2]\n",
    "row"
   ]
  },
  {
   "cell_type": "markdown",
   "metadata": {},
   "source": [
    "We can also select **ranges of rows** using slice notation"
   ]
  },
  {
   "cell_type": "code",
   "execution_count": null,
   "metadata": {
    "scrolled": true
   },
   "outputs": [],
   "source": [
    "df_survey.loc[2:5]"
   ]
  },
  {
   "cell_type": "code",
   "execution_count": null,
   "metadata": {},
   "outputs": [],
   "source": [
    "# Selecting all row in the range of selected columns\n",
    "\n",
    "df_survey.loc[1:6,'SIGN':'AIRTRAIN']"
   ]
  },
  {
   "cell_type": "code",
   "execution_count": null,
   "metadata": {},
   "outputs": [],
   "source": [
    "row = df_survey.loc[10]\n",
    "row['FOOD']"
   ]
  },
  {
   "cell_type": "code",
   "execution_count": null,
   "metadata": {},
   "outputs": [],
   "source": [
    "row"
   ]
  },
  {
   "cell_type": "markdown",
   "metadata": {},
   "source": [
    "<span style=\"color:red;font-weight:bold\">Try It</span>: Use `loc` to retrieve the answer to questions ranging from 'SCREENS' to 'WIFI' for customers with row indices 2 and 7: "
   ]
  },
  {
   "cell_type": "code",
   "execution_count": null,
   "metadata": {},
   "outputs": [],
   "source": [
    "# TRY\n"
   ]
  },
  {
   "cell_type": "markdown",
   "metadata": {},
   "source": [
    "#### iloc\n",
    "\n",
    "Purely integer-location based indexing for selection by position. Select based on ordering"
   ]
  },
  {
   "cell_type": "code",
   "execution_count": null,
   "metadata": {},
   "outputs": [],
   "source": [
    "# Alternatively may use iloc to slice a dataframe, \n",
    "#it'a Purely integer-location based indexing for selection by position.\n",
    "\n",
    "df_survey.iloc[0:100, 1:4]"
   ]
  },
  {
   "cell_type": "markdown",
   "metadata": {},
   "source": [
    "You can access the elements of our row via their column labels: "
   ]
  },
  {
   "cell_type": "markdown",
   "metadata": {},
   "source": [
    "#### df.info()\n",
    "\n",
    "Use df.info() to print information about a DataFrame including the index dtype and columns\n",
    "\n"
   ]
  },
  {
   "cell_type": "code",
   "execution_count": null,
   "metadata": {},
   "outputs": [],
   "source": [
    "df_survey.info()"
   ]
  },
  {
   "cell_type": "markdown",
   "metadata": {},
   "source": [
    "#### df.describe()\n",
    "\n",
    "Dataframe `describe()` generates descriptive statistics. Descriptive statistics include those that summarize the central tendency, dispersion and shape of a dataset's distribution, excluding NaN values. Analyzes both numeric and object series, as well as DataFrame column sets of mixed data types."
   ]
  },
  {
   "cell_type": "code",
   "execution_count": null,
   "metadata": {},
   "outputs": [],
   "source": [
    "df_survey.describe()"
   ]
  },
  {
   "cell_type": "markdown",
   "metadata": {},
   "source": [
    "<span style=\"color:blue;font-weight:bold\">Exercise</span>: Write a function called `retrieve_first_hundred_rows` that accepts a single string argument called `csv_file_name`. Your function should perform the following tasks:\n",
    "\n",
    "1. Load the file into a dataframe using `read_csv` \n",
    "2. Return a smaller dataframe containing the first hundred rows of the original dataframe\n",
    "\n",
    "You can test your function on the filename `data/datasets_weight_height.csv` "
   ]
  },
  {
   "cell_type": "code",
   "execution_count": null,
   "metadata": {},
   "outputs": [],
   "source": [
    "# YOUR CODE HERE\n",
    "\n"
   ]
  },
  {
   "cell_type": "code",
   "execution_count": null,
   "metadata": {},
   "outputs": [],
   "source": [
    "retrieve_first_hundred_rows('data/datasets_weight_height.csv')"
   ]
  },
  {
   "cell_type": "markdown",
   "metadata": {},
   "source": [
    "#### Filtering using logical operators\n",
    "\n",
    "You may filter your dataframe using basic conditional  operators <br>\n",
    "\n",
    "== equal to<br>\n",
    " \\> greater than<br>\n",
    " \\>= greater or equal to<br>\n",
    " < less than<br>\n",
    " <= less or equal to<br>\n",
    "!= not equal to <br>\n",
    "\n",
    "You must use the following operators with pandas:<br>\n",
    "& for and<br>\n",
    "| for or<br>\n",
    "~ for not<br>"
   ]
  },
  {
   "cell_type": "code",
   "execution_count": null,
   "metadata": {},
   "outputs": [],
   "source": [
    "# This statement will create True for FOOD==5\n",
    "df_survey['FOOD'] == 5"
   ]
  },
  {
   "cell_type": "code",
   "execution_count": null,
   "metadata": {},
   "outputs": [],
   "source": [
    "# This statement will create the survey with the condition (FOOD == 5) is True\n",
    "df_survey[df_survey['FOOD'] == 5]"
   ]
  },
  {
   "cell_type": "code",
   "execution_count": null,
   "metadata": {},
   "outputs": [],
   "source": [
    "df_survey[df_survey['FOOD'] >= 4]"
   ]
  },
  {
   "cell_type": "code",
   "execution_count": null,
   "metadata": {},
   "outputs": [],
   "source": [
    "# This will create only the 'ART' column  with the condition ('FOOD'==1) is True\n",
    "df_survey['ART'][df_survey['FOOD'] == 1]"
   ]
  },
  {
   "cell_type": "code",
   "execution_count": null,
   "metadata": {},
   "outputs": [],
   "source": [
    "# This statement will assign the output into df1\n",
    "df1=df_survey[df_survey[\"STORE\"] >= 4]"
   ]
  },
  {
   "cell_type": "code",
   "execution_count": null,
   "metadata": {},
   "outputs": [],
   "source": [
    "df1.loc[10:20]"
   ]
  },
  {
   "cell_type": "code",
   "execution_count": null,
   "metadata": {},
   "outputs": [],
   "source": [
    "# This statement is using a combine filter with multiple conditions\n",
    "combined_filter = (df_survey['FOOD'] >= 3) & (df_survey['STORE'] >= 4)\n",
    "df_survey[combined_filter]"
   ]
  },
  {
   "cell_type": "code",
   "execution_count": null,
   "metadata": {},
   "outputs": [],
   "source": [
    "df_survey[(df_survey['FOOD'] >= 3)&(df_survey['STORE'] >= 4)]"
   ]
  },
  {
   "cell_type": "code",
   "execution_count": null,
   "metadata": {},
   "outputs": [],
   "source": [
    "# Combined filter using | 'OR' operator\n",
    "combined_filter = (df_survey['FOOD'] >= 4) | (df_survey['STORE'] >= 4)\n",
    "df_survey[combined_filter]"
   ]
  },
  {
   "cell_type": "markdown",
   "metadata": {},
   "source": [
    "### Export to Excel\n",
    "You may use `pandas.DataFrame.to_excel` to export a dataframe into excel spreadsheet."
   ]
  },
  {
   "cell_type": "code",
   "execution_count": null,
   "metadata": {},
   "outputs": [],
   "source": [
    "df_survey[combined_filter].to_excel('temp.xlsx')"
   ]
  },
  {
   "cell_type": "markdown",
   "metadata": {},
   "source": [
    "<span style=\"color:blue;font-weight:bold\">Exercise</span>: Write a function called `negative_info` that accepts a single DataFrame argument called `my_df`. Your function should return all rows for which the customers answered a `2` or a `1` to all of the following columnss:\n",
    "\n",
    "1. `SCREENS`\n",
    "2. `INFODOWN`\n",
    "3. `INFOUP`"
   ]
  },
  {
   "cell_type": "code",
   "execution_count": null,
   "metadata": {},
   "outputs": [],
   "source": [
    "# YOUR CODE HERE\n"
   ]
  },
  {
   "cell_type": "code",
   "execution_count": null,
   "metadata": {},
   "outputs": [],
   "source": [
    "negative_info(df_survey)"
   ]
  },
  {
   "cell_type": "markdown",
   "metadata": {},
   "source": [
    "#### read the dataframe from csv  <br>\n",
    "df = pd.read_csv('filename.csv')<br>\n",
    "\n",
    "#### you may also read from excel<br>\n",
    "df=pd.read_excel('filename.xlsx', sheet_name='Sheet3')<br>\n",
    "\n",
    "<span style=\"color:blue;font-weight:bold\">Exercise</span>\n",
    "Read the csv file __data/insurance.csv__ and load it into a dataframe __df2__<br>\n"
   ]
  },
  {
   "cell_type": "code",
   "execution_count": null,
   "metadata": {},
   "outputs": [],
   "source": []
  },
  {
   "cell_type": "markdown",
   "metadata": {},
   "source": [
    "<span style=\"color:blue;font-weight:bold\">Exercise</span>\n",
    "Read the last 10 rows of df2"
   ]
  },
  {
   "cell_type": "code",
   "execution_count": null,
   "metadata": {},
   "outputs": [],
   "source": []
  },
  {
   "cell_type": "markdown",
   "metadata": {},
   "source": [
    "<span style=\"color:blue;font-weight:bold\">Exercise</span>\n",
    "Select the male smoker from the dataset df2"
   ]
  },
  {
   "cell_type": "code",
   "execution_count": null,
   "metadata": {},
   "outputs": [],
   "source": []
  },
  {
   "cell_type": "markdown",
   "metadata": {},
   "source": [
    "<span style=\"color:blue;font-weight:bold\">Exercise</span>\n",
    "Find out the max, min and mean of the bmi and insurance charges for male smoker in the dataset"
   ]
  },
  {
   "cell_type": "code",
   "execution_count": null,
   "metadata": {},
   "outputs": [],
   "source": []
  },
  {
   "cell_type": "markdown",
   "metadata": {},
   "source": [
    "<span style=\"color:blue;font-weight:bold\">Exercise</span>\n",
    "Check the number of Female smoker below or equal to 21 years old from the dataset df2 (Use .size)"
   ]
  },
  {
   "cell_type": "code",
   "execution_count": null,
   "metadata": {},
   "outputs": [],
   "source": []
  },
  {
   "cell_type": "markdown",
   "metadata": {},
   "source": [
    "\n",
    "### Correlation Matrix\n",
    "To create a correlation matrix using Pandas:"
   ]
  },
  {
   "cell_type": "code",
   "execution_count": null,
   "metadata": {},
   "outputs": [],
   "source": [
    "df2.corr()"
   ]
  }
 ],
 "metadata": {
  "kernelspec": {
   "display_name": "Python 3 (ipykernel)",
   "language": "python",
   "name": "python3"
  },
  "language_info": {
   "codemirror_mode": {
    "name": "ipython",
    "version": 3
   },
   "file_extension": ".py",
   "mimetype": "text/x-python",
   "name": "python",
   "nbconvert_exporter": "python",
   "pygments_lexer": "ipython3",
   "version": "3.10.7"
  },
  "vscode": {
   "interpreter": {
    "hash": "26de051ba29f2982a8de78e945f0abaf191376122a1563185a90213a26c5da77"
   }
  }
 },
 "nbformat": 4,
 "nbformat_minor": 4
}
