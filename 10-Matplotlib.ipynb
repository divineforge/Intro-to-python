{
 "cells": [
  {
   "cell_type": "markdown",
   "metadata": {},
   "source": [
    "## 12. Plotting: Drawing Graphs with Python. \n",
    "\n",
    "### Matplotlib\n",
    "Matplotlib is a *module* that contains many useful functions for turning raw data into graphs. "
   ]
  },
  {
   "cell_type": "code",
   "execution_count": null,
   "metadata": {},
   "outputs": [],
   "source": [
    "# the line below is a magic jupyter command to make our graphs show up right - you can ignore it\n",
    "%matplotlib inline\n",
    "# this is the line that actually imports matplotlib module\n",
    "import matplotlib.pyplot as plt"
   ]
  },
  {
   "cell_type": "markdown",
   "metadata": {},
   "source": [
    "### Scatter Plots\n",
    "\n",
    "The following is a scatter plot of the height of various people versus their weight:"
   ]
  },
  {
   "cell_type": "code",
   "execution_count": null,
   "metadata": {},
   "outputs": [],
   "source": [
    "heights = [182, 150, 197, 164, 171, 155, 187, 148, 162, 168]\n",
    "weights = [81, 55, 90, 60, 65, 57, 86, 52, 61, 62]\n",
    "plt.scatter(heights, weights)\n",
    "plt.title('weight vs height')\n",
    "plt.xlabel('Height in cm')\n",
    "plt.ylabel('Weight in kg')\n",
    "plt.show()"
   ]
  },
  {
   "cell_type": "markdown",
   "metadata": {},
   "source": [
    "Notice that the lines of code above work as follows:\n",
    "\n",
    "1. We call the `scatter` function and provide it with two arguments: a list of $x$ values, and a list of $y$ values\n",
    "2. We call the `show` function to make our graph show up on the screen"
   ]
  },
  {
   "cell_type": "code",
   "execution_count": null,
   "metadata": {},
   "outputs": [],
   "source": [
    "plt.scatter(heights, weights, c=\"#5817b3\")\n",
    "plt.show()"
   ]
  },
  {
   "cell_type": "code",
   "execution_count": null,
   "metadata": {},
   "outputs": [],
   "source": [
    "# c=\"b\" means color = blue\n",
    "plt.scatter(heights, weights, c=\"y\",marker=\"s\")\n",
    "plt.show()"
   ]
  },
  {
   "cell_type": "code",
   "execution_count": null,
   "metadata": {
    "scrolled": true
   },
   "outputs": [],
   "source": [
    "# Changing it another color\n",
    "plt.scatter(heights, weights, marker=\"*\", c=\"#0ddb5c\")\n",
    "plt.show()"
   ]
  },
  {
   "cell_type": "code",
   "execution_count": null,
   "metadata": {},
   "outputs": [],
   "source": [
    "# the help function can the details of its colors\n",
    "import matplotlib\n",
    "help(matplotlib.colors)"
   ]
  },
  {
   "cell_type": "code",
   "execution_count": null,
   "metadata": {},
   "outputs": [],
   "source": [
    "# Helpf for markers\n",
    "help(matplotlib.markers)"
   ]
  },
  {
   "cell_type": "code",
   "execution_count": null,
   "metadata": {},
   "outputs": [],
   "source": [
    "# Adding title, xlabel and ylabel to the graph\n",
    "plt.title(\"Weight vs Height\")\n",
    "plt.xlabel(\"Height (cm)\",)\n",
    "plt.ylabel(\"Weight (kg)\")\n",
    "plt.scatter(heights, weights, marker=\"x\", c=\"r\",label=\"plot\")\n",
    "plt.legend()\n",
    "plt.show()"
   ]
  },
  {
   "cell_type": "code",
   "execution_count": null,
   "metadata": {},
   "outputs": [],
   "source": [
    "monthly_salary = [10000, 1800, 3800, 4500, 3000, 4300, 4500,8300, 14500]\n",
    "age = [60, 24, 32, 36, 28, 36, 32, 60, 68]"
   ]
  },
  {
   "cell_type": "markdown",
   "metadata": {},
   "source": [
    "<span style=\"color:red;font-weight:bold\">Try</span>\n",
    ": Plot a scatterplot of **ages** (x) vs **monthly_salary** (y). Use the **triangle_down** marker and color green. "
   ]
  },
  {
   "cell_type": "code",
   "execution_count": null,
   "metadata": {},
   "outputs": [],
   "source": [
    "# YOUR CODE HERE\n"
   ]
  },
  {
   "cell_type": "markdown",
   "metadata": {},
   "source": [
    "### Line Plots\n",
    "\n",
    "We need to use the `plot` function rather than the `scatter` function:"
   ]
  },
  {
   "cell_type": "code",
   "execution_count": null,
   "metadata": {},
   "outputs": [],
   "source": [
    "import numpy as np\n",
    "\n",
    "x = np.arange(0,10)\n",
    "y = np.arange(0,10)\n",
    "plt.plot(x, y)\n",
    "plt.show()"
   ]
  },
  {
   "cell_type": "code",
   "execution_count": null,
   "metadata": {},
   "outputs": [],
   "source": [
    "x"
   ]
  },
  {
   "cell_type": "code",
   "execution_count": null,
   "metadata": {},
   "outputs": [],
   "source": [
    "y"
   ]
  },
  {
   "cell_type": "code",
   "execution_count": null,
   "metadata": {},
   "outputs": [],
   "source": [
    "import numpy as np\n",
    "\n",
    "x = np.arange(0,10,1)\n",
    "y = [1,2,3,2,5,6,7,8,6,10]\n",
    "plt.plot(x, y)\n",
    "plt.show()"
   ]
  },
  {
   "cell_type": "code",
   "execution_count": null,
   "metadata": {},
   "outputs": [],
   "source": [
    "# create an array of numbers\n",
    "x=np.arange(-3,10) \n",
    "y=x**2\n",
    "plt.plot(x,y)\n",
    "plt.title('a title')\n",
    "plt.ylabel('y axis label')\n",
    "plt.xlabel('x axis label')\n",
    "# save the figure in a file\n",
    "plt.savefig('sampleline.jpg')\n",
    "plt.show()"
   ]
  },
  {
   "cell_type": "markdown",
   "metadata": {},
   "source": [
    "### Formatting the style of plot\n",
    "\n",
    "source: https://matplotlib.org/stable/api/_as_gen/matplotlib.pyplot.plot.html\n",
    "\n",
    "some of the line styles:\n",
    "+ '-' solid line style\n",
    "+ '--' dashed line style\n",
    "+ '-.' dash-dot line style\n",
    "+ ':' dotted line style\n",
    "\n",
    "Colors:\n",
    "+ ‘b’\tblue\n",
    "+ ‘g’\tgreen\n",
    "+ ‘r’\tred\n",
    "+ ‘c’\tcyan\n",
    "+ ‘m’\tmagenta\n",
    "+ ‘y’\tyellow\n",
    "+ ‘k’\tblack\n",
    "+ ‘w’\twhite\n",
    "\n",
    "More colors possible: https://matplotlib.org/stable/tutorials/colors/colors.html\n",
    "\n",
    "Some of the Markers:\n",
    "+ '.' point marker\n",
    "+ ',' pixel marker\n",
    "+ 'o' circle marker\n",
    "+ 'v' triangle_down marker\n",
    "+ '^' triangle_up marker\n",
    "+ '<' triangle_left marker\n",
    "+ '>' triangle_right marker\n",
    "+ '1' tri_down marker"
   ]
  },
  {
   "cell_type": "code",
   "execution_count": null,
   "metadata": {},
   "outputs": [],
   "source": [
    "plt.plot(x,y,'r--')\n",
    "plt.show()"
   ]
  },
  {
   "cell_type": "code",
   "execution_count": null,
   "metadata": {},
   "outputs": [],
   "source": [
    "plt.plot(x,y,color='b', linestyle=':', linewidth=5)\n",
    "plt.show()"
   ]
  },
  {
   "cell_type": "code",
   "execution_count": null,
   "metadata": {},
   "outputs": [],
   "source": [
    "plt.plot(x, x, 'r--', x, x**2, 'bs', x, x**3, 'g^')\n",
    "plt.savefig('sample.png')#save plot as png file\n",
    "plt.show()\n"
   ]
  },
  {
   "cell_type": "code",
   "execution_count": null,
   "metadata": {},
   "outputs": [],
   "source": [
    "import pandas as pd\n",
    "df=pd.read_csv('data/insurance.csv')\n",
    "df"
   ]
  },
  {
   "cell_type": "code",
   "execution_count": null,
   "metadata": {},
   "outputs": [],
   "source": [
    "plt.title(\"Charges vs BMI\")\n",
    "plt.xlabel(\"BMI\",)\n",
    "plt.ylabel(\"Charges\")\n",
    "plt.scatter(df.bmi, df.charges) #x,y\n",
    "plt.show()"
   ]
  },
  {
   "cell_type": "code",
   "execution_count": null,
   "metadata": {},
   "outputs": [],
   "source": [
    "plt.title(\"Charges vs BMI\"\")\n",
    "plt.xlabel(\"BMI\",)\n",
    "plt.ylabel(\"Charges\")\n",
    "# setting facecolor C2(Circle green) and edgecolor (k - black)\n",
    "plt.scatter(df.bmi, df.charges,facecolor='C2', edgecolor='k') #x,y\n",
    "plt.show()"
   ]
  },
  {
   "cell_type": "code",
   "execution_count": null,
   "metadata": {},
   "outputs": [],
   "source": [
    "#scatter plot of charges vs age\n",
    "plt.scatter(df['age'][df['smoker']=='yes'], df['charges'][df['smoker']=='yes'],color='r', label='smoker')\n",
    "plt.scatter(df['age'][df['smoker']=='no'], df['charges'][df['smoker']=='no'], color='b',alpha=0.5,label='non smoker')\n",
    "plt.xlabel('age')\n",
    "plt.ylabel('charges')\n",
    "plt.title('Charges vs age')\n",
    "plt.legend()\n",
    "plt.show()"
   ]
  },
  {
   "cell_type": "markdown",
   "metadata": {},
   "source": [
    "## Histogram\n",
    "plt.hist()\n",
    "+ rwidth - The relative width of the bars\n",
    "+ bins - If bins is an integer, it defines the number of equal-width bins in the range.\n",
    "+ align -{'left', 'mid', 'right'}, default: 'mid'\n",
    "\n",
    "If bins is a sequence, it defines the bin edges\n",
    "\n"
   ]
  },
  {
   "cell_type": "code",
   "execution_count": null,
   "metadata": {},
   "outputs": [],
   "source": [
    "plt.hist(df['age'],rwidth=0.8,bins=5)\n",
    "plt.title('Histogram of age')\n",
    "plt.xlabel('age')\n",
    "plt.ylabel('frequency')"
   ]
  },
  {
   "cell_type": "code",
   "execution_count": null,
   "metadata": {},
   "outputs": [],
   "source": [
    "# Changing the orientation to horizontal\n",
    "plt.hist(df['age'],rwidth=0.5,bins=5, orientation='horizontal', color='red')\n",
    "plt.title('Histogram of age')\n",
    "plt.xlabel('frequency')\n",
    "plt.ylabel('age')"
   ]
  },
  {
   "cell_type": "code",
   "execution_count": null,
   "metadata": {},
   "outputs": [],
   "source": [
    "plt.hist(df['age'],rwidth=0.5,bins=[20,30,40,50,60,70], color='r')\n",
    "plt.title('Histogram of age')\n",
    "plt.xlabel('age')\n",
    "plt.ylabel('frequency')"
   ]
  },
  {
   "cell_type": "code",
   "execution_count": null,
   "metadata": {},
   "outputs": [],
   "source": [
    "plt.hist(df['age'],rwidth=0.7,bins=[20,30,40,50,60,70],align='left' ,color='c',edgecolor='black', linewidth=2)\n",
    "plt.title('Histogram of age')\n",
    "plt.xlabel('age')\n",
    "plt.ylabel('frequency')"
   ]
  },
  {
   "cell_type": "code",
   "execution_count": null,
   "metadata": {},
   "outputs": [],
   "source": [
    "df['age'][df['sex']=='male']"
   ]
  },
  {
   "cell_type": "code",
   "execution_count": null,
   "metadata": {},
   "outputs": [],
   "source": [
    "plt.hist([df['age'][df['sex']=='male'],df['age'][df['sex']=='female']], bins=10, rwidth=0.8, color=['green','orange'],label=['men','women'])\n",
    "plt.legend()\n",
    "plt.title('Histogram of age per gender')\n",
    "plt.xlabel('age')\n",
    "plt.ylabel('frequency')"
   ]
  },
  {
   "cell_type": "markdown",
   "metadata": {},
   "source": [
    "<span style=\"color:blue;font-weight:bold\">Exercise</span>\n",
    "Plot a histogram to illustrate the distribution of insurance charges for smoker and non smoker"
   ]
  },
  {
   "cell_type": "code",
   "execution_count": null,
   "metadata": {},
   "outputs": [],
   "source": []
  },
  {
   "cell_type": "code",
   "execution_count": null,
   "metadata": {},
   "outputs": [],
   "source": []
  },
  {
   "cell_type": "markdown",
   "metadata": {},
   "source": [
    "### Box plot \n",
    "A Box Plot is also known as Whisker plot is created to display the summary of the set of data values having properties like minimum, first quartile, median, third quartile and maximum. "
   ]
  },
  {
   "cell_type": "code",
   "execution_count": null,
   "metadata": {},
   "outputs": [],
   "source": [
    "# Creating plot\n",
    "plt.boxplot(df['charges'])\n",
    " \n",
    "# show plot\n",
    "plt.show()"
   ]
  },
  {
   "cell_type": "code",
   "execution_count": null,
   "metadata": {},
   "outputs": [],
   "source": [
    "# Creating plot\n",
    "plt.boxplot(df['bmi'])\n",
    "plt.show()"
   ]
  },
  {
   "cell_type": "markdown",
   "metadata": {},
   "source": [
    "## Barchart\n",
    "plt.bar()\n",
    "\n",
    "+ x - float or array-like :The x coordinates of the bars\n",
    "+ height- float or array-like\n",
    "+ width- float or array-like, default: 0.8\n",
    "+ bottom-float or array-like, default: 0 : bar bases\n",
    "+ align{'center', 'edge'}, default: 'center': Alignment of the bars to the x coordinates."
   ]
  },
  {
   "cell_type": "code",
   "execution_count": null,
   "metadata": {},
   "outputs": [],
   "source": [
    "courses=['Javascript', 'Java','R', 'Python']\n",
    "students =[20, 15, 30, 35]"
   ]
  },
  {
   "cell_type": "code",
   "execution_count": null,
   "metadata": {},
   "outputs": [],
   "source": [
    "# Figure size  \n",
    "fig = plt.figure(figsize = (7, 5))\n",
    " \n",
    "# creating the bar plot\n",
    "plt.bar(courses, students, color='#aa80ff',edgecolor ='black', linewidth=2,width=0.5)\n",
    " \n",
    "plt.xlabel(\"Training Courses\")\n",
    "plt.ylabel(\"Number of students\")\n",
    "plt.title(\"Students for different courses\")\n",
    "plt.show()"
   ]
  },
  {
   "cell_type": "code",
   "execution_count": null,
   "metadata": {},
   "outputs": [],
   "source": [
    "# Horizontal bar\n",
    "plt.barh(courses, students, label=\"Charges\" ,color='#70db70',edgecolor ='black', linewidth=2)\n",
    "\n",
    "plt.ylabel(\"Training Courses\")\n",
    "plt.xlabel(\"Number of students\")\n",
    "plt.title('Students for different courses')\n",
    "plt.show()"
   ]
  },
  {
   "cell_type": "markdown",
   "metadata": {},
   "source": [
    "<span style=\"color:blue;font-weight:bold\">Exercise</span>\n",
    "Plot a bar chart to display the average(mean) insurance charges per region.\n"
   ]
  },
  {
   "cell_type": "code",
   "execution_count": null,
   "metadata": {},
   "outputs": [],
   "source": [
    "# Use the following data to plot the bar chart\n",
    "data=df.groupby('region').mean(numeric_only=True)\n",
    "data"
   ]
  },
  {
   "cell_type": "code",
   "execution_count": null,
   "metadata": {},
   "outputs": [],
   "source": [
    "\n"
   ]
  },
  {
   "cell_type": "markdown",
   "metadata": {},
   "source": [
    "## Pie Chart\n",
    "plt.pie()\n",
    "\n",
    "+ x - 1D array-like. The wedge sizes.\n",
    "+ labels- list, default: None\n",
    "+ colors - rray-like, default: None\n",
    "+ autopct - None or str or callable, default: None.It is a string or function used to label the wedges with their numeric value.\n",
    "+ shadow - bool, default: False\n",
    "+ radius - float, default: 1 The radius of the pie."
   ]
  },
  {
   "cell_type": "code",
   "execution_count": null,
   "metadata": {},
   "outputs": [],
   "source": [
    "# Creating plot\n",
    "fig = plt.figure(figsize =(5, 5))\n",
    "plt.pie(students, labels = courses)\n",
    "# show plot\n",
    "plt.show()"
   ]
  },
  {
   "cell_type": "code",
   "execution_count": null,
   "metadata": {},
   "outputs": [],
   "source": [
    "# changing the startangle - rotate anti-clockwise\n",
    "plt.pie(students, labels = courses,startangle=90)\n",
    "plt.show()"
   ]
  },
  {
   "cell_type": "code",
   "execution_count": null,
   "metadata": {},
   "outputs": [],
   "source": [
    "# stting autopct, radious and shadow\n",
    "plt.pie(students, labels = courses,shadow=True, autopct='%1.2f%%',radius=1.5)\n",
    "plt.show()"
   ]
  },
  {
   "cell_type": "code",
   "execution_count": null,
   "metadata": {},
   "outputs": [],
   "source": [
    "# Setting Explode\n",
    "plt.pie(students, labels = courses,shadow=True, autopct='%1.2f%%',radius=1.5,explode=[0,0.0,0.1,0.1])\n",
    "plt.show()\n"
   ]
  },
  {
   "cell_type": "code",
   "execution_count": null,
   "metadata": {},
   "outputs": [],
   "source": []
  }
 ],
 "metadata": {
  "kernelspec": {
   "display_name": "Python 3 (ipykernel)",
   "language": "python",
   "name": "python3"
  },
  "language_info": {
   "codemirror_mode": {
    "name": "ipython",
    "version": 3
   },
   "file_extension": ".py",
   "mimetype": "text/x-python",
   "name": "python",
   "nbconvert_exporter": "python",
   "pygments_lexer": "ipython3",
   "version": "3.9.9"
  },
  "vscode": {
   "interpreter": {
    "hash": "26de051ba29f2982a8de78e945f0abaf191376122a1563185a90213a26c5da77"
   }
  }
 },
 "nbformat": 4,
 "nbformat_minor": 4
}
